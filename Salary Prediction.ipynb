{
 "cells": [
  {
   "cell_type": "markdown",
   "metadata": {},
   "source": [
    "In this project, we will focus on salary prediction. The data set includes information on job descriptions and salaries. Using this data set we can predict the salary of a job posting (i.e., the `Salary` column in the data set) based on the job description. This is important, because this model can make a salary recommendation as soon as a job description is entered into a system."
   ]
  },
  {
   "cell_type": "markdown",
   "metadata": {},
   "source": [
    "## Description of Variables\n",
    "\n",
    "The description of variables are provided in \"Jobs - Data Dictionary.docx\""
   ]
  },
  {
   "cell_type": "markdown",
   "metadata": {},
   "source": [
    "## Goal\n",
    "\n",
    "Use the **jobs_alldata.csv** data set and build models to predict **salary**.\n",
    "\n"
   ]
  },
  {
   "cell_type": "markdown",
   "metadata": {},
   "source": [
    "\n",
    "## Setup\n"
   ]
  },
  {
   "cell_type": "code",
   "execution_count": 1,
   "metadata": {},
   "outputs": [],
   "source": [
    "# Common imports\n",
    "import numpy as np\n",
    "import pandas as pd\n",
    "\n",
    "np.random.seed(36926175)"
   ]
  },
  {
   "cell_type": "markdown",
   "metadata": {},
   "source": [
    "## Get the data"
   ]
  },
  {
   "cell_type": "code",
   "execution_count": 2,
   "metadata": {},
   "outputs": [
    {
     "data": {
      "text/html": [
       "<div>\n",
       "<style scoped>\n",
       "    .dataframe tbody tr th:only-of-type {\n",
       "        vertical-align: middle;\n",
       "    }\n",
       "\n",
       "    .dataframe tbody tr th {\n",
       "        vertical-align: top;\n",
       "    }\n",
       "\n",
       "    .dataframe thead th {\n",
       "        text-align: right;\n",
       "    }\n",
       "</style>\n",
       "<table border=\"1\" class=\"dataframe\">\n",
       "  <thead>\n",
       "    <tr style=\"text-align: right;\">\n",
       "      <th></th>\n",
       "      <th>Salary</th>\n",
       "      <th>Job Description</th>\n",
       "      <th>Location</th>\n",
       "      <th>Min_years_exp</th>\n",
       "      <th>Technical</th>\n",
       "      <th>Comm</th>\n",
       "      <th>Travel</th>\n",
       "    </tr>\n",
       "  </thead>\n",
       "  <tbody>\n",
       "    <tr>\n",
       "      <th>0</th>\n",
       "      <td>67206</td>\n",
       "      <td>Civil Service Title: Regional Director Mental ...</td>\n",
       "      <td>Remote</td>\n",
       "      <td>5</td>\n",
       "      <td>2</td>\n",
       "      <td>3</td>\n",
       "      <td>0</td>\n",
       "    </tr>\n",
       "    <tr>\n",
       "      <th>1</th>\n",
       "      <td>88313</td>\n",
       "      <td>The New York City Comptrollerâ€™s Office Burea...</td>\n",
       "      <td>Remote</td>\n",
       "      <td>5</td>\n",
       "      <td>2</td>\n",
       "      <td>4</td>\n",
       "      <td>10-15</td>\n",
       "    </tr>\n",
       "    <tr>\n",
       "      <th>2</th>\n",
       "      <td>81315</td>\n",
       "      <td>With minimal supervision from the Deputy Commi...</td>\n",
       "      <td>East campus</td>\n",
       "      <td>5</td>\n",
       "      <td>3</td>\n",
       "      <td>3</td>\n",
       "      <td>5-10</td>\n",
       "    </tr>\n",
       "    <tr>\n",
       "      <th>3</th>\n",
       "      <td>76426</td>\n",
       "      <td>OPEN TO CURRENT BUSINESS PROMOTION COORDINATOR...</td>\n",
       "      <td>East campus</td>\n",
       "      <td>1</td>\n",
       "      <td>1</td>\n",
       "      <td>3</td>\n",
       "      <td>0</td>\n",
       "    </tr>\n",
       "    <tr>\n",
       "      <th>4</th>\n",
       "      <td>55675</td>\n",
       "      <td>Only candidates who are permanent in the Princ...</td>\n",
       "      <td>Southeast campus</td>\n",
       "      <td>1</td>\n",
       "      <td>1</td>\n",
       "      <td>3</td>\n",
       "      <td>5-10</td>\n",
       "    </tr>\n",
       "  </tbody>\n",
       "</table>\n",
       "</div>"
      ],
      "text/plain": [
       "   Salary                                    Job Description  \\\n",
       "0   67206  Civil Service Title: Regional Director Mental ...   \n",
       "1   88313  The New York City Comptrollerâ€™s Office Burea...   \n",
       "2   81315  With minimal supervision from the Deputy Commi...   \n",
       "3   76426  OPEN TO CURRENT BUSINESS PROMOTION COORDINATOR...   \n",
       "4   55675  Only candidates who are permanent in the Princ...   \n",
       "\n",
       "           Location  Min_years_exp  Technical  Comm Travel  \n",
       "0            Remote              5          2     3      0  \n",
       "1            Remote              5          2     4  10-15  \n",
       "2       East campus              5          3     3   5-10  \n",
       "3       East campus              1          1     3      0  \n",
       "4  Southeast campus              1          1     3   5-10  "
      ]
     },
     "execution_count": 2,
     "metadata": {},
     "output_type": "execute_result"
    }
   ],
   "source": [
    "#We will predict the \"salary\" value in the data set:\n",
    "\n",
    "jobs = pd.read_csv(\"jobs_alldata.csv\")\n",
    "jobs.head()"
   ]
  },
  {
   "cell_type": "markdown",
   "metadata": {},
   "source": [
    "## Split the data"
   ]
  },
  {
   "cell_type": "code",
   "execution_count": 3,
   "metadata": {},
   "outputs": [],
   "source": [
    "from sklearn.model_selection import train_test_split\n",
    "\n",
    "train_set, test_set = train_test_split(jobs, test_size=0.3)"
   ]
  },
  {
   "cell_type": "code",
   "execution_count": 4,
   "metadata": {},
   "outputs": [
    {
     "data": {
      "text/plain": [
       "Salary             0\n",
       "Job Description    0\n",
       "Location           0\n",
       "Min_years_exp      0\n",
       "Technical          0\n",
       "Comm               0\n",
       "Travel             0\n",
       "dtype: int64"
      ]
     },
     "execution_count": 4,
     "metadata": {},
     "output_type": "execute_result"
    }
   ],
   "source": [
    "train_set.isna().sum()"
   ]
  },
  {
   "cell_type": "markdown",
   "metadata": {},
   "source": [
    "## Data Prep"
   ]
  },
  {
   "cell_type": "code",
   "execution_count": 5,
   "metadata": {},
   "outputs": [],
   "source": [
    "from sklearn.compose import ColumnTransformer\n",
    "from sklearn.pipeline import Pipeline\n",
    "from sklearn.impute import SimpleImputer\n",
    "from sklearn.preprocessing import StandardScaler\n",
    "from sklearn.preprocessing import OneHotEncoder\n",
    "\n",
    "from sklearn.preprocessing import FunctionTransformer"
   ]
  },
  {
   "cell_type": "markdown",
   "metadata": {},
   "source": [
    "## Seperate the target variable"
   ]
  },
  {
   "cell_type": "code",
   "execution_count": 6,
   "metadata": {},
   "outputs": [],
   "source": [
    "train_t = train_set['Salary']\n",
    "test_t = test_set['Salary']\n",
    "\n",
    "train_inputs = train_set.drop(['Salary'], axis=1)\n",
    "test_inputs = test_set.drop(['Salary'], axis=1)"
   ]
  },
  {
   "cell_type": "markdown",
   "metadata": {},
   "source": [
    "## Seperate the text column from train and test data set"
   ]
  },
  {
   "cell_type": "code",
   "execution_count": 7,
   "metadata": {},
   "outputs": [],
   "source": [
    "train_text = train_inputs['Job Description']\n",
    "train_othr = train_inputs.drop('Job Description',axis=1)\n",
    "\n",
    "test_text = test_inputs['Job Description']\n",
    "test_othr = test_inputs.drop('Job Description',axis=1)\n"
   ]
  },
  {
   "cell_type": "code",
   "execution_count": 8,
   "metadata": {},
   "outputs": [
    {
     "data": {
      "text/plain": [
       "544     NYC DOT Division of Traffic Operations is seek...\n",
       "2389    OATA IT Services division is committed to tran...\n",
       "1366    ACS is establishing a new case consultation fu...\n",
       "93      Your Team:  The Division Tenant Resources HPD'...\n",
       "1257    DoITT provides for the sustained, efficient an...\n",
       "                              ...                        \n",
       "45      The New York City Department of Health and Men...\n",
       "22      The Division of Environmental Health works to ...\n",
       "1520    The Commission on Human Rights (the Commission...\n",
       "1759    ***PLEASE NOTE APPLICANTS MUST BE PERMANENT IN...\n",
       "310     The mission of Forestry, Horticulture, and Nat...\n",
       "Name: Job Description, Length: 1689, dtype: object"
      ]
     },
     "execution_count": 8,
     "metadata": {},
     "output_type": "execute_result"
    }
   ],
   "source": [
    "train_text"
   ]
  },
  {
   "cell_type": "code",
   "execution_count": 9,
   "metadata": {},
   "outputs": [
    {
     "data": {
      "text/plain": [
       "1503    Please read this posting carefully to make cer...\n",
       "1962    The NYC Department of Environmental Protection...\n",
       "656     The New York City Department of Transportation...\n",
       "2098    The Comptroller's Bureau of Contract Administr...\n",
       "984     The mission of Forestry, Horticulture and Natu...\n",
       "                              ...                        \n",
       "413     Please read this posting carefully to make cer...\n",
       "714     The New York City Department of Environmental ...\n",
       "532     Please read this posting carefully to make cer...\n",
       "766     The New York City Housing Authority (NYCHA) is...\n",
       "1517    The NYC Department of Environmental Protection...\n",
       "Name: Job Description, Length: 724, dtype: object"
      ]
     },
     "execution_count": 9,
     "metadata": {},
     "output_type": "execute_result"
    }
   ],
   "source": [
    "test_text"
   ]
  },
  {
   "cell_type": "code",
   "execution_count": 10,
   "metadata": {},
   "outputs": [
    {
     "data": {
      "text/plain": [
       "(1689, 5)"
      ]
     },
     "execution_count": 10,
     "metadata": {},
     "output_type": "execute_result"
    }
   ],
   "source": [
    "train_othr.shape"
   ]
  },
  {
   "cell_type": "code",
   "execution_count": 11,
   "metadata": {},
   "outputs": [
    {
     "data": {
      "text/html": [
       "<div>\n",
       "<style scoped>\n",
       "    .dataframe tbody tr th:only-of-type {\n",
       "        vertical-align: middle;\n",
       "    }\n",
       "\n",
       "    .dataframe tbody tr th {\n",
       "        vertical-align: top;\n",
       "    }\n",
       "\n",
       "    .dataframe thead th {\n",
       "        text-align: right;\n",
       "    }\n",
       "</style>\n",
       "<table border=\"1\" class=\"dataframe\">\n",
       "  <thead>\n",
       "    <tr style=\"text-align: right;\">\n",
       "      <th></th>\n",
       "      <th>Location</th>\n",
       "      <th>Min_years_exp</th>\n",
       "      <th>Technical</th>\n",
       "      <th>Comm</th>\n",
       "      <th>Travel</th>\n",
       "    </tr>\n",
       "  </thead>\n",
       "  <tbody>\n",
       "    <tr>\n",
       "      <th>1503</th>\n",
       "      <td>HQ</td>\n",
       "      <td>2</td>\n",
       "      <td>1</td>\n",
       "      <td>3</td>\n",
       "      <td>0</td>\n",
       "    </tr>\n",
       "    <tr>\n",
       "      <th>1962</th>\n",
       "      <td>HQ</td>\n",
       "      <td>5</td>\n",
       "      <td>5</td>\n",
       "      <td>3</td>\n",
       "      <td>0</td>\n",
       "    </tr>\n",
       "    <tr>\n",
       "      <th>656</th>\n",
       "      <td>HQ</td>\n",
       "      <td>5</td>\n",
       "      <td>2</td>\n",
       "      <td>3</td>\n",
       "      <td>0</td>\n",
       "    </tr>\n",
       "    <tr>\n",
       "      <th>2098</th>\n",
       "      <td>East campus</td>\n",
       "      <td>5</td>\n",
       "      <td>4</td>\n",
       "      <td>2</td>\n",
       "      <td>0</td>\n",
       "    </tr>\n",
       "    <tr>\n",
       "      <th>984</th>\n",
       "      <td>West campus</td>\n",
       "      <td>4</td>\n",
       "      <td>1</td>\n",
       "      <td>3</td>\n",
       "      <td>1-5</td>\n",
       "    </tr>\n",
       "    <tr>\n",
       "      <th>...</th>\n",
       "      <td>...</td>\n",
       "      <td>...</td>\n",
       "      <td>...</td>\n",
       "      <td>...</td>\n",
       "      <td>...</td>\n",
       "    </tr>\n",
       "    <tr>\n",
       "      <th>413</th>\n",
       "      <td>East campus</td>\n",
       "      <td>1</td>\n",
       "      <td>2</td>\n",
       "      <td>4</td>\n",
       "      <td>0</td>\n",
       "    </tr>\n",
       "    <tr>\n",
       "      <th>714</th>\n",
       "      <td>Remote</td>\n",
       "      <td>5</td>\n",
       "      <td>2</td>\n",
       "      <td>3</td>\n",
       "      <td>0</td>\n",
       "    </tr>\n",
       "    <tr>\n",
       "      <th>532</th>\n",
       "      <td>HQ</td>\n",
       "      <td>5</td>\n",
       "      <td>2</td>\n",
       "      <td>4</td>\n",
       "      <td>0</td>\n",
       "    </tr>\n",
       "    <tr>\n",
       "      <th>766</th>\n",
       "      <td>Remote</td>\n",
       "      <td>1</td>\n",
       "      <td>1</td>\n",
       "      <td>4</td>\n",
       "      <td>0</td>\n",
       "    </tr>\n",
       "    <tr>\n",
       "      <th>1517</th>\n",
       "      <td>East campus</td>\n",
       "      <td>1</td>\n",
       "      <td>5</td>\n",
       "      <td>3</td>\n",
       "      <td>0</td>\n",
       "    </tr>\n",
       "  </tbody>\n",
       "</table>\n",
       "<p>724 rows × 5 columns</p>\n",
       "</div>"
      ],
      "text/plain": [
       "         Location  Min_years_exp  Technical  Comm Travel\n",
       "1503           HQ              2          1     3      0\n",
       "1962           HQ              5          5     3      0\n",
       "656            HQ              5          2     3      0\n",
       "2098  East campus              5          4     2      0\n",
       "984   West campus              4          1     3    1-5\n",
       "...           ...            ...        ...   ...    ...\n",
       "413   East campus              1          2     4      0\n",
       "714        Remote              5          2     3      0\n",
       "532            HQ              5          2     4      0\n",
       "766        Remote              1          1     4      0\n",
       "1517  East campus              1          5     3      0\n",
       "\n",
       "[724 rows x 5 columns]"
      ]
     },
     "execution_count": 11,
     "metadata": {},
     "output_type": "execute_result"
    }
   ],
   "source": [
    "test_othr"
   ]
  },
  {
   "cell_type": "markdown",
   "metadata": {},
   "source": [
    "## Feature Engineering Column: We have created feature engg. column \"location_job\", which uses \"Location\" column.If \"location\" is \"Remote\" value would be 1 else 0 for all others."
   ]
  },
  {
   "cell_type": "code",
   "execution_count": 12,
   "metadata": {},
   "outputs": [
    {
     "data": {
      "text/plain": [
       "count     1689\n",
       "unique       5\n",
       "top         HQ\n",
       "freq       648\n",
       "Name: Location, dtype: object"
      ]
     },
     "execution_count": 12,
     "metadata": {},
     "output_type": "execute_result"
    }
   ],
   "source": [
    "train_othr['Location'].describe()"
   ]
  },
  {
   "cell_type": "code",
   "execution_count": 13,
   "metadata": {},
   "outputs": [
    {
     "data": {
      "text/plain": [
       "544                   HQ\n",
       "2389    Southeast campus\n",
       "1366         East campus\n",
       "93           West campus\n",
       "1257         East campus\n",
       "              ...       \n",
       "45                    HQ\n",
       "22      Southeast campus\n",
       "1520              Remote\n",
       "1759         West campus\n",
       "310                   HQ\n",
       "Name: Location, Length: 1689, dtype: object"
      ]
     },
     "execution_count": 13,
     "metadata": {},
     "output_type": "execute_result"
    }
   ],
   "source": [
    "train_othr['Location']"
   ]
  },
  {
   "cell_type": "code",
   "execution_count": 14,
   "metadata": {},
   "outputs": [],
   "source": [
    "def new_col(df):\n",
    "    #Create a copy so that we don't overwrite the existing dataframe\n",
    "    df1 = df.copy()\n",
    "    \n",
    "    df1['location_job'] = np.where(df1['Location'] == 'Remote', 1, 0)\n",
    "    \n",
    "    return df1[['location_job']]\n",
    "    # You can use this to check whether the calculation is made correctly:\n",
    "    #return df1"
   ]
  },
  {
   "cell_type": "code",
   "execution_count": 15,
   "metadata": {},
   "outputs": [
    {
     "data": {
      "text/html": [
       "<div>\n",
       "<style scoped>\n",
       "    .dataframe tbody tr th:only-of-type {\n",
       "        vertical-align: middle;\n",
       "    }\n",
       "\n",
       "    .dataframe tbody tr th {\n",
       "        vertical-align: top;\n",
       "    }\n",
       "\n",
       "    .dataframe thead th {\n",
       "        text-align: right;\n",
       "    }\n",
       "</style>\n",
       "<table border=\"1\" class=\"dataframe\">\n",
       "  <thead>\n",
       "    <tr style=\"text-align: right;\">\n",
       "      <th></th>\n",
       "      <th>location_job</th>\n",
       "    </tr>\n",
       "  </thead>\n",
       "  <tbody>\n",
       "    <tr>\n",
       "      <th>544</th>\n",
       "      <td>0</td>\n",
       "    </tr>\n",
       "    <tr>\n",
       "      <th>2389</th>\n",
       "      <td>0</td>\n",
       "    </tr>\n",
       "    <tr>\n",
       "      <th>1366</th>\n",
       "      <td>0</td>\n",
       "    </tr>\n",
       "    <tr>\n",
       "      <th>93</th>\n",
       "      <td>0</td>\n",
       "    </tr>\n",
       "    <tr>\n",
       "      <th>1257</th>\n",
       "      <td>0</td>\n",
       "    </tr>\n",
       "    <tr>\n",
       "      <th>...</th>\n",
       "      <td>...</td>\n",
       "    </tr>\n",
       "    <tr>\n",
       "      <th>45</th>\n",
       "      <td>0</td>\n",
       "    </tr>\n",
       "    <tr>\n",
       "      <th>22</th>\n",
       "      <td>0</td>\n",
       "    </tr>\n",
       "    <tr>\n",
       "      <th>1520</th>\n",
       "      <td>1</td>\n",
       "    </tr>\n",
       "    <tr>\n",
       "      <th>1759</th>\n",
       "      <td>0</td>\n",
       "    </tr>\n",
       "    <tr>\n",
       "      <th>310</th>\n",
       "      <td>0</td>\n",
       "    </tr>\n",
       "  </tbody>\n",
       "</table>\n",
       "<p>1689 rows × 1 columns</p>\n",
       "</div>"
      ],
      "text/plain": [
       "      location_job\n",
       "544              0\n",
       "2389             0\n",
       "1366             0\n",
       "93               0\n",
       "1257             0\n",
       "...            ...\n",
       "45               0\n",
       "22               0\n",
       "1520             1\n",
       "1759             0\n",
       "310              0\n",
       "\n",
       "[1689 rows x 1 columns]"
      ]
     },
     "execution_count": 15,
     "metadata": {},
     "output_type": "execute_result"
    }
   ],
   "source": [
    "#Let's test the new function:\n",
    "\n",
    "# Send train set to the function we created\n",
    "new_col(train_othr)"
   ]
  },
  {
   "cell_type": "code",
   "execution_count": 16,
   "metadata": {},
   "outputs": [
    {
     "data": {
      "text/plain": [
       "Job Description    object\n",
       "Location           object\n",
       "Min_years_exp       int64\n",
       "Technical           int64\n",
       "Comm                int64\n",
       "Travel             object\n",
       "dtype: object"
      ]
     },
     "execution_count": 16,
     "metadata": {},
     "output_type": "execute_result"
    }
   ],
   "source": [
    "train_inputs.dtypes"
   ]
  },
  {
   "cell_type": "code",
   "execution_count": 17,
   "metadata": {},
   "outputs": [
    {
     "data": {
      "text/plain": [
       "Location         object\n",
       "Min_years_exp     int64\n",
       "Technical         int64\n",
       "Comm              int64\n",
       "Travel           object\n",
       "dtype: object"
      ]
     },
     "execution_count": 17,
     "metadata": {},
     "output_type": "execute_result"
    }
   ],
   "source": [
    "train_othr.dtypes"
   ]
  },
  {
   "cell_type": "code",
   "execution_count": 18,
   "metadata": {},
   "outputs": [],
   "source": [
    "# Identify the numerical columns\n",
    "numeric_columns = ['Min_years_exp','Technical','Comm']\n",
    "\n",
    "# Identify the categorical columns\n",
    "categorical_columns = ['Travel']\n",
    "\n",
    "## Identify feature engineering column\n",
    "feat_eng_columns = ['Location']"
   ]
  },
  {
   "cell_type": "markdown",
   "metadata": {},
   "source": [
    "## Pipeline"
   ]
  },
  {
   "cell_type": "code",
   "execution_count": 19,
   "metadata": {},
   "outputs": [],
   "source": [
    "numeric_transformer = Pipeline(steps=[\n",
    "                ('imputer', SimpleImputer(strategy='median')),\n",
    "                ('scaler', StandardScaler())])"
   ]
  },
  {
   "cell_type": "code",
   "execution_count": 20,
   "metadata": {},
   "outputs": [],
   "source": [
    "categorical_transformer = Pipeline(steps=[\n",
    "    ('imputer', SimpleImputer(strategy='constant', fill_value='unknown')),\n",
    "    ('onehot', OneHotEncoder(handle_unknown='ignore'))])"
   ]
  },
  {
   "cell_type": "code",
   "execution_count": 21,
   "metadata": {},
   "outputs": [],
   "source": [
    "my_new_column = Pipeline(steps=[('my_new_column', FunctionTransformer(new_col))])"
   ]
  },
  {
   "cell_type": "code",
   "execution_count": 22,
   "metadata": {},
   "outputs": [],
   "source": [
    "\n",
    "preprocessor = ColumnTransformer([\n",
    "        ('num', numeric_transformer, numeric_columns),\n",
    "        ('cat', categorical_transformer, categorical_columns),\n",
    "        ('trans', my_new_column, feat_eng_columns)],\n",
    "        remainder='passthrough')\n",
    "\n",
    "#passtrough is an optional step. You don't have to use it."
   ]
  },
  {
   "cell_type": "markdown",
   "metadata": {},
   "source": [
    "## Transform: fit_transform() for TRAIN"
   ]
  },
  {
   "cell_type": "code",
   "execution_count": 23,
   "metadata": {},
   "outputs": [
    {
     "data": {
      "text/plain": [
       "array([[-1.08660042, -1.04304216,  0.98576743, ...,  0.        ,\n",
       "         0.        ,  0.        ],\n",
       "       [-1.08660042,  1.41057651,  2.10998159, ...,  0.        ,\n",
       "         0.        ,  0.        ],\n",
       "       [ 0.58283691, -1.04304216,  0.98576743, ...,  0.        ,\n",
       "         1.        ,  0.        ],\n",
       "       ...,\n",
       "       [ 0.58283691, -0.22516927, -0.13844674, ...,  0.        ,\n",
       "         0.        ,  1.        ],\n",
       "       [-1.08660042,  0.59270362, -1.26266091, ...,  1.        ,\n",
       "         0.        ,  0.        ],\n",
       "       [ 1.13931602,  0.59270362,  0.98576743, ...,  0.        ,\n",
       "         0.        ,  0.        ]])"
      ]
     },
     "execution_count": 23,
     "metadata": {},
     "output_type": "execute_result"
    }
   ],
   "source": [
    "#Fit and transform the train data\n",
    "train_othr_trans = preprocessor.fit_transform(train_othr)\n",
    "\n",
    "train_othr_trans"
   ]
  },
  {
   "cell_type": "code",
   "execution_count": 24,
   "metadata": {},
   "outputs": [
    {
     "data": {
      "text/plain": [
       "(1689, 8)"
      ]
     },
     "execution_count": 24,
     "metadata": {},
     "output_type": "execute_result"
    }
   ],
   "source": [
    "train_othr_trans.shape"
   ]
  },
  {
   "cell_type": "markdown",
   "metadata": {},
   "source": [
    "# Tranform: transform() for TEST"
   ]
  },
  {
   "cell_type": "code",
   "execution_count": 25,
   "metadata": {},
   "outputs": [
    {
     "data": {
      "text/plain": [
       "array([[-0.53012131, -1.04304216, -0.13844674, ...,  0.        ,\n",
       "         0.        ,  0.        ],\n",
       "       [ 1.13931602,  2.22844941, -0.13844674, ...,  0.        ,\n",
       "         0.        ,  0.        ],\n",
       "       [ 1.13931602, -0.22516927, -0.13844674, ...,  0.        ,\n",
       "         0.        ,  0.        ],\n",
       "       ...,\n",
       "       [ 1.13931602, -0.22516927,  0.98576743, ...,  0.        ,\n",
       "         0.        ,  0.        ],\n",
       "       [-1.08660042, -1.04304216,  0.98576743, ...,  0.        ,\n",
       "         0.        ,  1.        ],\n",
       "       [-1.08660042,  2.22844941, -0.13844674, ...,  0.        ,\n",
       "         0.        ,  0.        ]])"
      ]
     },
     "execution_count": 25,
     "metadata": {},
     "output_type": "execute_result"
    }
   ],
   "source": [
    "# Transform the test data\n",
    "test_othr_trans = preprocessor.transform(test_othr)\n",
    "\n",
    "test_othr_trans"
   ]
  },
  {
   "cell_type": "code",
   "execution_count": 26,
   "metadata": {},
   "outputs": [
    {
     "data": {
      "text/plain": [
       "(724, 8)"
      ]
     },
     "execution_count": 26,
     "metadata": {},
     "output_type": "execute_result"
    }
   ],
   "source": [
    "test_othr_trans.shape"
   ]
  },
  {
   "cell_type": "markdown",
   "metadata": {},
   "source": [
    "## Text Mining"
   ]
  },
  {
   "cell_type": "code",
   "execution_count": 27,
   "metadata": {},
   "outputs": [],
   "source": [
    "#TfidfVectorizer includes pre-processing, tokenization, filtering stop words\n",
    "from sklearn.feature_extraction.text import TfidfVectorizer\n",
    "\n",
    "tfidf_vect = TfidfVectorizer(stop_words='english')\n",
    "\n",
    "train_x_tr = tfidf_vect.fit_transform(train_text)"
   ]
  },
  {
   "cell_type": "code",
   "execution_count": 28,
   "metadata": {},
   "outputs": [],
   "source": [
    "# Perform the TfidfVectorizer transformation\n",
    "# Be careful: We are using the train fit to transform the test data set. Otherwise, the test data \n",
    "# features will be very different and match the train set!!!\n",
    "\n",
    "test_x_tr = tfidf_vect.transform(test_text)\n"
   ]
  },
  {
   "cell_type": "code",
   "execution_count": 29,
   "metadata": {},
   "outputs": [
    {
     "data": {
      "text/plain": [
       "((1689, 9802), (724, 9802))"
      ]
     },
     "execution_count": 29,
     "metadata": {},
     "output_type": "execute_result"
    }
   ],
   "source": [
    "train_x_tr.shape, test_x_tr.shape"
   ]
  },
  {
   "cell_type": "code",
   "execution_count": 30,
   "metadata": {},
   "outputs": [
    {
     "data": {
      "text/plain": [
       "<1689x9802 sparse matrix of type '<class 'numpy.float64'>'\n",
       "\twith 249060 stored elements in Compressed Sparse Row format>"
      ]
     },
     "execution_count": 30,
     "metadata": {},
     "output_type": "execute_result"
    }
   ],
   "source": [
    "# These data sets are \"sparse matrix\". We can't see them unless we convert using toarray()\n",
    "train_x_tr"
   ]
  },
  {
   "cell_type": "code",
   "execution_count": 31,
   "metadata": {},
   "outputs": [
    {
     "data": {
      "text/plain": [
       "array([[0.        , 0.        , 0.        , ..., 0.        , 0.        ,\n",
       "        0.        ],\n",
       "       [0.        , 0.        , 0.        , ..., 0.        , 0.        ,\n",
       "        0.        ],\n",
       "       [0.        , 0.        , 0.        , ..., 0.        , 0.        ,\n",
       "        0.        ],\n",
       "       ...,\n",
       "       [0.        , 0.        , 0.        , ..., 0.        , 0.        ,\n",
       "        0.        ],\n",
       "       [0.        , 0.05220597, 0.        , ..., 0.        , 0.        ,\n",
       "        0.        ],\n",
       "       [0.        , 0.        , 0.        , ..., 0.        , 0.        ,\n",
       "        0.        ]])"
      ]
     },
     "execution_count": 31,
     "metadata": {},
     "output_type": "execute_result"
    }
   ],
   "source": [
    "# These data sets are \"sparse matrix\". We can't see them unless we convert using toarray()\n",
    "train_x_tr.toarray()"
   ]
  },
  {
   "cell_type": "code",
   "execution_count": 32,
   "metadata": {},
   "outputs": [
    {
     "data": {
      "text/plain": [
       "{'nyc': 5903,\n",
       " 'dot': 2998,\n",
       " 'division': 2932,\n",
       " 'traffic': 8950,\n",
       " 'operations': 6090,\n",
       " 'seeking': 7929,\n",
       " 'experienced': 3602,\n",
       " 'candidate': 1476,\n",
       " 'serve': 7982,\n",
       " 'highway': 4309,\n",
       " 'transportation': 9007,\n",
       " 'specialist': 8252,\n",
       " 'signals': 8097,\n",
       " 'unit': 9189,\n",
       " 'involved': 4880,\n",
       " 'development': 2742,\n",
       " 'maintenance': 5360,\n",
       " 'cityâ': 1718,\n",
       " 'extensive': 3639,\n",
       " 'network': 5808,\n",
       " 'transit': 8981,\n",
       " 'signal': 8095,\n",
       " 'priority': 6799,\n",
       " 'tsp': 9073,\n",
       " 'real': 7149,\n",
       " 'time': 8863,\n",
       " 'passenger': 6321,\n",
       " 'information': 4649,\n",
       " 'rtpi': 7742,\n",
       " 'wayfinder': 9524,\n",
       " 'systems': 8673,\n",
       " 'supervision': 8594,\n",
       " 'develop': 2736,\n",
       " 'complex': 1958,\n",
       " 'simulation': 8117,\n",
       " 'models': 5647,\n",
       " 'aimsun': 651,\n",
       " 'vissim': 9430,\n",
       " 'similar': 8107,\n",
       " 'software': 8191,\n",
       " 'support': 8608,\n",
       " 'vision': 9421,\n",
       " 'zero': 9727,\n",
       " 'projects': 6891,\n",
       " 'new': 5813,\n",
       " 'york': 9717,\n",
       " 'city': 1713,\n",
       " 'additional': 493,\n",
       " 'responsibilities': 7560,\n",
       " 'include': 4562,\n",
       " 'project': 6886,\n",
       " 'scoping': 7856,\n",
       " 'cost': 2275,\n",
       " 'proposal': 6922,\n",
       " 'contract': 2177,\n",
       " 'documents': 2964,\n",
       " 'review': 7615,\n",
       " 'technical': 8754,\n",
       " 'feasibility': 3736,\n",
       " 'planning': 6538,\n",
       " 'operational': 6085,\n",
       " 'troubleshooting': 9054,\n",
       " 'deployed': 2660,\n",
       " 'assets': 932,\n",
       " 'scheduling': 7840,\n",
       " 'installation': 4714,\n",
       " 'repair': 7437,\n",
       " 'work': 9636,\n",
       " 'evaluation': 3490,\n",
       " 'performance': 6408,\n",
       " 'metrics': 5552,\n",
       " 'qa': 7035,\n",
       " 'qc': 7038,\n",
       " 'liaison': 5183,\n",
       " 'partner': 6310,\n",
       " 'agencies': 615,\n",
       " 'elected': 3204,\n",
       " 'officials': 6033,\n",
       " 'related': 7357,\n",
       " 'duties': 3073,\n",
       " 'oata': 5944,\n",
       " 'services': 7993,\n",
       " 'committed': 1891,\n",
       " 'transforming': 8979,\n",
       " 'agency': 617,\n",
       " 'innovation': 4681,\n",
       " 'collaboration': 1826,\n",
       " 'director': 2815,\n",
       " 'senior': 7957,\n",
       " 'net': 5804,\n",
       " 'developer': 2738,\n",
       " 'analyst': 726,\n",
       " 'responsible': 7562,\n",
       " 'investigating': 4860,\n",
       " 'analyzing': 736,\n",
       " 'designing': 2699,\n",
       " 'programming': 6876,\n",
       " 'implementing': 4524,\n",
       " 'effective': 3169,\n",
       " 'technology': 8764,\n",
       " 'solutions': 8205,\n",
       " 'existing': 3573,\n",
       " 'computer': 1995,\n",
       " 'position': 6642,\n",
       " 'requires': 7490,\n",
       " 'candidates': 1477,\n",
       " 'self': 7950,\n",
       " 'starters': 8374,\n",
       " 'fast': 3714,\n",
       " 'paced': 6236,\n",
       " 'environment': 3386,\n",
       " 'perform': 6407,\n",
       " 'highly': 4308,\n",
       " 'difficult': 2787,\n",
       " 'individual': 4608,\n",
       " 'contributor': 2193,\n",
       " 'major': 5362,\n",
       " 'familiar': 3702,\n",
       " 'asp': 910,\n",
       " 'angularjs': 741,\n",
       " 'jquery': 4965,\n",
       " 'web': 9538,\n",
       " 'api': 768,\n",
       " 'xml': 9705,\n",
       " 'xsl': 9707,\n",
       " 'xslt': 9708,\n",
       " 'soap': 8182,\n",
       " 'json': 4967,\n",
       " 'functional': 4001,\n",
       " 'knowledge': 5017,\n",
       " 'html5': 4414,\n",
       " 'javascript': 4941,\n",
       " 'object': 5948,\n",
       " 'oriented': 6152,\n",
       " 'coding': 1813,\n",
       " 'methodologies': 5547,\n",
       " 'hands': 4222,\n",
       " 'based': 1119,\n",
       " 'application': 790,\n",
       " 'experience': 3601,\n",
       " 'demonstrate': 2635,\n",
       " 'understanding': 9157,\n",
       " 'different': 2785,\n",
       " 'life': 5201,\n",
       " 'cycle': 2453,\n",
       " 'relational': 7361,\n",
       " 'database': 2478,\n",
       " 'design': 2690,\n",
       " 'implementation': 4521,\n",
       " 'acs': 456,\n",
       " 'establishing': 3461,\n",
       " 'case': 1535,\n",
       " 'consultation': 2134,\n",
       " 'function': 4000,\n",
       " 'practice': 6693,\n",
       " 'family': 3705,\n",
       " 'permanency': 6421,\n",
       " 'provide': 6956,\n",
       " 'assistance': 941,\n",
       " 'foster': 3941,\n",
       " 'care': 1508,\n",
       " 'staff': 8337,\n",
       " 'cases': 1538,\n",
       " 'seasoned': 7900,\n",
       " 'managerial': 5381,\n",
       " 'level': 5165,\n",
       " 'working': 9650,\n",
       " 'directly': 2814,\n",
       " 'collaboratively': 1829,\n",
       " 'acsâ': 457,\n",
       " 'contracted': 2178,\n",
       " 'provider': 6958,\n",
       " 'deepen': 2565,\n",
       " 'strengthen': 8464,\n",
       " 'resulting': 7580,\n",
       " 'improved': 4536,\n",
       " 'safety': 7773,\n",
       " 'outcomes': 6177,\n",
       " 'children': 1684,\n",
       " 'reduced': 7264,\n",
       " 'lengths': 5156,\n",
       " 'stay': 8401,\n",
       " 'rates': 7119,\n",
       " 'entry': 3382,\n",
       " 'uniquely': 9187,\n",
       " 'qualified': 7046,\n",
       " 'offer': 6020,\n",
       " 'child': 1681,\n",
       " 'welfare': 9567,\n",
       " 'clinical': 1768,\n",
       " 'expertise': 3609,\n",
       " 'policies': 6604,\n",
       " 'procedures': 6820,\n",
       " 'resources': 7540,\n",
       " 'families': 3704,\n",
       " 'advocates': 582,\n",
       " 'consultationsâ': 2136,\n",
       " 'specific': 8261,\n",
       " 'answer': 751,\n",
       " 'questions': 7071,\n",
       " 'clarify': 1732,\n",
       " 'troubleshoot': 9053,\n",
       " 'issues': 4916,\n",
       " 'confer': 2040,\n",
       " 'use': 9259,\n",
       " 'data': 2477,\n",
       " 'sources': 8223,\n",
       " 'identify': 4470,\n",
       " 'categories': 1554,\n",
       " 'areas': 864,\n",
       " 'benefit': 1179,\n",
       " 'act': 458,\n",
       " 'single': 8122,\n",
       " 'point': 6594,\n",
       " 'contact': 2146,\n",
       " 'stakeholders': 8352,\n",
       " 'improve': 4535,\n",
       " 'communication': 1903,\n",
       " 'efficiency': 3176,\n",
       " 'resolution': 7531,\n",
       " 'improves': 4539,\n",
       " 'practices': 6694,\n",
       " 'key': 5002,\n",
       " 'including': 4565,\n",
       " 'limited': 5217,\n",
       " 'engagement': 3323,\n",
       " 'concurrent': 2021,\n",
       " 'kin': 5005,\n",
       " 'kingap': 5008,\n",
       " 'open': 6073,\n",
       " 'adoption': 551,\n",
       " 'older': 6049,\n",
       " 'youth': 9723,\n",
       " 'trial': 9038,\n",
       " 'final': 3795,\n",
       " 'discharge': 2835,\n",
       " 'link': 5227,\n",
       " 'available': 1049,\n",
       " 'help': 4290,\n",
       " 'interface': 4783,\n",
       " 'omh': 6056,\n",
       " 'opwdd': 6122,\n",
       " 'court': 2309,\n",
       " 'legal': 5143,\n",
       " 'coordinate': 2229,\n",
       " 'necessary': 5785,\n",
       " 'divisions': 2934,\n",
       " 'protection': 6944,\n",
       " 'preventive': 6768,\n",
       " 'justice': 4986,\n",
       " 'maintain': 5351,\n",
       " 'track': 8935,\n",
       " 'inquiries': 4689,\n",
       " 'trends': 9033,\n",
       " 'utilize': 9277,\n",
       " 'programs': 6877,\n",
       " 'team': 8747,\n",
       " 'conferencing': 2043,\n",
       " 'process': 6825,\n",
       " 'critical': 2375,\n",
       " 'incidents': 4560,\n",
       " 'positions': 6645,\n",
       " 'require': 7486,\n",
       " 'hours': 4386,\n",
       " 'coverage': 2315,\n",
       " 'rotating': 7706,\n",
       " 'basis': 1126,\n",
       " 'tenant': 8787,\n",
       " 'hpd': 4396,\n",
       " 'dtr': 3060,\n",
       " 'administration': 534,\n",
       " 'rental': 7425,\n",
       " 'subsidy': 8534,\n",
       " 'consists': 2107,\n",
       " 'regular': 7326,\n",
       " 'enhanced': 3338,\n",
       " 'section': 7910,\n",
       " 'program': 6867,\n",
       " 'known': 5020,\n",
       " 'housing': 4394,\n",
       " 'choice': 1690,\n",
       " 'voucher': 9460,\n",
       " 'hcv': 4255,\n",
       " 'pvb': 7030,\n",
       " 'moderate': 5650,\n",
       " 'rehab': 7338,\n",
       " 'room': 7699,\n",
       " 'occupancy': 5977,\n",
       " 'sro': 8317,\n",
       " 'continuum': 2176,\n",
       " 'coc': 1807,\n",
       " 'shelter': 8037,\n",
       " 'plus': 6573,\n",
       " 'spc': 8239,\n",
       " 'subsides': 8531,\n",
       " 'serves': 7986,\n",
       " 'approximately': 831,\n",
       " '40': 190,\n",
       " '000': 1,\n",
       " 'households': 4391,\n",
       " 'boroughs': 1303,\n",
       " 'landlords': 5055,\n",
       " 'currently': 2423,\n",
       " 'participate': 6302,\n",
       " 'initial': 4661,\n",
       " 'screening': 7871,\n",
       " 'confirming': 2062,\n",
       " 'eligibility': 3226,\n",
       " 'requirements': 7489,\n",
       " 'vouchering': 9461,\n",
       " 'briefings': 1347,\n",
       " 'monitoring': 5677,\n",
       " 'landlord': 5054,\n",
       " 'compliance': 1961,\n",
       " 'obligations': 5954,\n",
       " 'processing': 6828,\n",
       " 'annual': 746,\n",
       " 'interim': 4790,\n",
       " 'recertificationâ': 7193,\n",
       " 'update': 9228,\n",
       " 'income': 4571,\n",
       " 'asset': 931,\n",
       " 'composition': 1974,\n",
       " 'recalculate': 7173,\n",
       " 'subsidies': 8532,\n",
       " 'moves': 5717,\n",
       " 'transfers': 8972,\n",
       " 'approved': 825,\n",
       " 'rent': 7424,\n",
       " 'increases': 4587,\n",
       " 'payment': 6361,\n",
       " 'hap': 4224,\n",
       " 'abatements': 355,\n",
       " 'reinstatements': 7352,\n",
       " 'enforce': 3315,\n",
       " 'quality': 7052,\n",
       " 'standard': 8361,\n",
       " 'hqs': 4402,\n",
       " 'inspection': 4704,\n",
       " 'results': 7581,\n",
       " 'reported': 7457,\n",
       " 'changes': 1643,\n",
       " 'nycha': 5917,\n",
       " 'designated': 2691,\n",
       " 'department': 2647,\n",
       " 'urban': 9248,\n",
       " 'hud': 4419,\n",
       " 'public': 6991,\n",
       " 'authorities': 1020,\n",
       " 'phas': 6463,\n",
       " 'purposes': 7020,\n",
       " 'administering': 530,\n",
       " 'federal': 3741,\n",
       " 'received': 7179,\n",
       " 'approval': 821,\n",
       " 'convert': 2209,\n",
       " 'certain': 1615,\n",
       " 'units': 9191,\n",
       " 'œnon': 9779,\n",
       " 'unitsâ': 9192,\n",
       " 'located': 5279,\n",
       " '21': 119,\n",
       " 'state': 8378,\n",
       " 'aided': 644,\n",
       " 'developments': 2744,\n",
       " 'pha': 6461,\n",
       " 'owned': 6226,\n",
       " 'receiving': 7182,\n",
       " 'obtain': 5966,\n",
       " 'independent': 4593,\n",
       " 'entity': 3377,\n",
       " 'functions': 4004,\n",
       " 'œhqsâ': 9768,\n",
       " 'inspections': 4706,\n",
       " 'separate': 7966,\n",
       " 'performing': 6411,\n",
       " 'obtained': 5967,\n",
       " 'role': 7688,\n",
       " 'nychaâ': 5918,\n",
       " 'non': 5848,\n",
       " 'impact': 4510,\n",
       " 'inspector': 4707,\n",
       " 'multiple': 5738,\n",
       " 'disciplines': 2841,\n",
       " 'conducts': 2035,\n",
       " 'dwellings': 3082,\n",
       " 'converted': 2210,\n",
       " 'inspectors': 4708,\n",
       " 'conduct': 2032,\n",
       " 'vacant': 9289,\n",
       " 'initials': 4663,\n",
       " 'biennial': 1204,\n",
       " 'using': 9269,\n",
       " 'electronic': 3214,\n",
       " 'handheld': 4214,\n",
       " 'equipment': 3413,\n",
       " 'able': 359,\n",
       " 'independently': 4594,\n",
       " 'attempt': 977,\n",
       " '11': 34,\n",
       " 'day': 2487,\n",
       " 'provided': 6957,\n",
       " 'schedules': 7839,\n",
       " 'dayâ': 2490,\n",
       " 'neighborhood': 5800,\n",
       " 'collect': 1836,\n",
       " 'order': 6128,\n",
       " 'enter': 3360,\n",
       " 'elite': 3231,\n",
       " 'ability': 358,\n",
       " 'carry': 1525,\n",
       " 'communicate': 1899,\n",
       " 'clearly': 1753,\n",
       " 'arise': 869,\n",
       " 'supervisor': 8595,\n",
       " 'doitt': 2975,\n",
       " 'provides': 6961,\n",
       " 'sustained': 8642,\n",
       " 'efficient': 3177,\n",
       " 'delivery': 2620,\n",
       " 'infrastructure': 4655,\n",
       " 'telecommunications': 8769,\n",
       " 'enhance': 3337,\n",
       " 'service': 7987,\n",
       " 'residents': 7519,\n",
       " 'businesses': 1422,\n",
       " 'employees': 3262,\n",
       " 'visitors': 9428,\n",
       " 'leader': 5108,\n",
       " 'maintaining': 5357,\n",
       " 'foundational': 3945,\n",
       " 'touch': 8916,\n",
       " 'aspect': 911,\n",
       " 'human': 4423,\n",
       " 'education': 3156,\n",
       " 'economic': 3128,\n",
       " 'crossing': 2381,\n",
       " 'spectrum': 8274,\n",
       " 'governmental': 4122,\n",
       " 'successful': 8552,\n",
       " 'psac': 6976,\n",
       " 'facility': 3678,\n",
       " 'manager': 5380,\n",
       " 'reporting': 7459,\n",
       " 'financial': 3803,\n",
       " 'management': 5378,\n",
       " 'direct': 2806,\n",
       " 'oversee': 6217,\n",
       " 'personnel': 6438,\n",
       " 'inventory': 4853,\n",
       " 'shipping': 8054,\n",
       " 'coordination': 2233,\n",
       " 'security': 7920,\n",
       " 'center': 1598,\n",
       " 'deployment': 2662,\n",
       " 'vendor': 9349,\n",
       " 'building': 1395,\n",
       " 'psac1': 6977,\n",
       " 'psac2': 6978,\n",
       " 'ensure': 3355,\n",
       " 'testing': 8809,\n",
       " 'renovations': 7422,\n",
       " 'adds': 500,\n",
       " 'managed': 5376,\n",
       " 'according': 409,\n",
       " 'client': 1759,\n",
       " 'disrupt': 2895,\n",
       " 'manage': 5374,\n",
       " 'warehouse': 9491,\n",
       " 'sites': 8131,\n",
       " 'supervise': 8590,\n",
       " 'assuring': 963,\n",
       " 'satisfactorily': 7802,\n",
       " 'responded': 7552,\n",
       " 'addressed': 497,\n",
       " 'clients': 1760,\n",
       " 'vendors': 9350,\n",
       " 'ensuring': 3357,\n",
       " 'deliveries': 2617,\n",
       " 'processed': 6826,\n",
       " 'set': 7999,\n",
       " 'forth': 3935,\n",
       " 'guidelines': 4196,\n",
       " 'best': 1185,\n",
       " 'special': 8251,\n",
       " 'initiatives': 4671,\n",
       " 'assigned': 935,\n",
       " 'buildings': 1396,\n",
       " 'safe': 7765,\n",
       " 'lawful': 5088,\n",
       " 'properties': 6919,\n",
       " 'enforcing': 3319,\n",
       " 'construction': 2124,\n",
       " 'codes': 1810,\n",
       " 'energy': 3314,\n",
       " 'code': 1808,\n",
       " 'zoning': 9732,\n",
       " 'facilitate': 3669,\n",
       " 'compliant': 1963,\n",
       " 'integrity': 4754,\n",
       " 'professionalism': 6853,\n",
       " 'premier': 6722,\n",
       " 'municipal': 5743,\n",
       " 'organization': 6137,\n",
       " 'dedicated': 2556,\n",
       " 'enhancing': 3342,\n",
       " 'yorkers': 9719,\n",
       " 'making': 5367,\n",
       " 'safer': 7771,\n",
       " 'improving': 4540,\n",
       " 'developing': 2741,\n",
       " 'streamlined': 8456,\n",
       " 'understandable': 9156,\n",
       " 'transparent': 9001,\n",
       " 'performs': 6412,\n",
       " 'clerical': 1754,\n",
       " 'office': 6025,\n",
       " 'various': 9328,\n",
       " 'administrative': 536,\n",
       " 'recording': 7228,\n",
       " 'checking': 1666,\n",
       " 'records': 7231,\n",
       " 'furnishing': 4017,\n",
       " 'preparing': 6735,\n",
       " 'reports': 7460,\n",
       " 'retrieval': 7597,\n",
       " 'maintains': 5358,\n",
       " 'file': 3782,\n",
       " 'libraries': 5186,\n",
       " 'routine': 7719,\n",
       " 'checks': 1669,\n",
       " 'accuracy': 432,\n",
       " 'conformity': 2071,\n",
       " 'established': 3459,\n",
       " 'policy': 6606,\n",
       " 'prepares': 6734,\n",
       " 'distributes': 2913,\n",
       " 'correspondence': 2265,\n",
       " 'researches': 7503,\n",
       " 'responds': 7557,\n",
       " 'internal': 4797,\n",
       " 'person': 6434,\n",
       " 'telephone': 8774,\n",
       " 'email': 3234,\n",
       " 'instruct': 4727,\n",
       " 'small': 8161,\n",
       " 'group': 4176,\n",
       " 'engaged': 3322,\n",
       " 'correction': 2254,\n",
       " 'doc': 2950,\n",
       " 'largest': 5073,\n",
       " 'jail': 4936,\n",
       " 'united': 9190,\n",
       " 'states': 8383,\n",
       " 'providing': 6962,\n",
       " 'custody': 2430,\n",
       " 'control': 2194,\n",
       " 'persons': 6439,\n",
       " 'accused': 436,\n",
       " 'crimes': 2369,\n",
       " 'convicted': 2216,\n",
       " 'sentenced': 7964,\n",
       " 'year': 9711,\n",
       " 'manages': 5384,\n",
       " 'inmate': 4677,\n",
       " 'facilities': 3677,\n",
       " 'rikers': 7656,\n",
       " 'island': 4904,\n",
       " 'addition': 492,\n",
       " 'operates': 6082,\n",
       " 'hospital': 4375,\n",
       " 'prison': 6802,\n",
       " 'wards': 9490,\n",
       " 'bellevue': 1169,\n",
       " 'elmhurst': 3232,\n",
       " 'hospitals': 4376,\n",
       " 'holding': 4341,\n",
       " 'borough': 1302,\n",
       " 'looking': 5302,\n",
       " 'talented': 8706,\n",
       " 'attorney': 990,\n",
       " 'trials': 9039,\n",
       " 'litigation': 5246,\n",
       " 'general': 4065,\n",
       " 'wide': 9590,\n",
       " 'latitude': 5081,\n",
       " 'judgment': 4972,\n",
       " 'action': 460,\n",
       " 'selected': 7945,\n",
       " 'following': 3888,\n",
       " 'evaluating': 3489,\n",
       " 'disciplinary': 2838,\n",
       " 'matters': 5446,\n",
       " 'sufficiency': 8557,\n",
       " 'drafting': 3021,\n",
       " 'formal': 3919,\n",
       " 'departmental': 2648,\n",
       " 'charges': 1657,\n",
       " 'uniform': 9179,\n",
       " 'reviewing': 7620,\n",
       " 'required': 7487,\n",
       " 'reciprocal': 7200,\n",
       " 'discovery': 2850,\n",
       " 'conducting': 2034,\n",
       " 'interviews': 4833,\n",
       " 'potential': 6669,\n",
       " 'witnesses': 9621,\n",
       " 'audio': 1003,\n",
       " 'video': 9396,\n",
       " 'tape': 8715,\n",
       " 'evidence': 3503,\n",
       " 'comparative': 1919,\n",
       " 'reviews': 7621,\n",
       " 'representing': 7472,\n",
       " 'informal': 4647,\n",
       " 'settlement': 8005,\n",
       " 'negotiations': 5798,\n",
       " 'opposing': 6104,\n",
       " 'counsel': 2282,\n",
       " 'conferences': 2042,\n",
       " 'concerning': 2008,\n",
       " 'hearings': 4274,\n",
       " 'recommending': 7212,\n",
       " 'appropriate': 816,\n",
       " 'dispositions': 2890,\n",
       " 'memoranda': 5509,\n",
       " 'detailing': 2714,\n",
       " 'recommended': 7211,\n",
       " 'negotiated': 5794,\n",
       " 'plea': 6562,\n",
       " 'agreements': 635,\n",
       " 'settlements': 8006,\n",
       " 'settled': 8004,\n",
       " 'researching': 7504,\n",
       " 'appellate': 782,\n",
       " 'argument': 867,\n",
       " 'departmentâ': 2651,\n",
       " 'representative': 7469,\n",
       " 'civil': 1721,\n",
       " 'commission': 1880,\n",
       " 'csc': 2392,\n",
       " 'handling': 4220,\n",
       " 'œon': 9782,\n",
       " 'callâ': 1460,\n",
       " 'specified': 8266,\n",
       " 'periods': 6418,\n",
       " 'determine': 2730,\n",
       " 'reasonable': 7163,\n",
       " 'suspicion': 8637,\n",
       " 'exists': 3574,\n",
       " 'authorization': 1023,\n",
       " 'urinalysis': 9252,\n",
       " 'member': 5505,\n",
       " 'environmental': 3387,\n",
       " 'dep': 2646,\n",
       " 'protects': 6948,\n",
       " 'health': 4266,\n",
       " 'supplying': 8606,\n",
       " 'clean': 1741,\n",
       " 'drinking': 3032,\n",
       " 'water': 9510,\n",
       " 'collecting': 1838,\n",
       " 'treating': 9022,\n",
       " 'wastewater': 9505,\n",
       " 'reducing': 7266,\n",
       " 'air': 652,\n",
       " 'noise': 5845,\n",
       " 'hazardous': 4249,\n",
       " 'materials': 5441,\n",
       " 'pollution': 6614,\n",
       " 'combined': 1858,\n",
       " 'utility': 9275,\n",
       " 'country': 2299,\n",
       " 'nearly': 5781,\n",
       " 'delivers': 2619,\n",
       " 'billion': 1218,\n",
       " 'gallons': 4033,\n",
       " 'highest': 4304,\n",
       " 'million': 5586,\n",
       " 'people': 6399,\n",
       " 'upstate': 9245,\n",
       " 'conveyance': 2213,\n",
       " 'treatment': 9023,\n",
       " 'capable': 1490,\n",
       " 'protect': 6941,\n",
       " 'surrounding': 8624,\n",
       " 'waterways': 9519,\n",
       " 'chief': 1677,\n",
       " 'contracting': 2179,\n",
       " 'acco': 395,\n",
       " 'directing': 2808,\n",
       " 'managing': 5385,\n",
       " 'agencyâ': 619,\n",
       " 'procurement': 6834,\n",
       " 'works': 9661,\n",
       " 'cooperatively': 2228,\n",
       " 'depâ': 2678,\n",
       " 'bureaus': 1411,\n",
       " 'requiring': 7491,\n",
       " 'capital': 1494,\n",
       " 'supplies': 8604,\n",
       " 'professional': 6852,\n",
       " 'primarily': 6777,\n",
       " 'engineering': 3331,\n",
       " 'coordinates': 2231,\n",
       " 'mayorâ': 5458,\n",
       " 'mocs': 5639,\n",
       " 'comptrollerâ': 1990,\n",
       " 'budget': 1385,\n",
       " 'accoâ': 423,\n",
       " 'organizational': 6138,\n",
       " 'groups': 4177,\n",
       " 'opportunities': 6101,\n",
       " 'purchasing': 7016,\n",
       " 'payments': 6362,\n",
       " 'accounting': 420,\n",
       " 'strategic': 8448,\n",
       " 'sourcing': 8224,\n",
       " 'specification': 8263,\n",
       " 'scope': 7854,\n",
       " 'negotiation': 5797,\n",
       " 'join': 4956,\n",
       " 'negotiating': 5796,\n",
       " 'contracts': 2184,\n",
       " 'conducted': 2033,\n",
       " 'assist': 940,\n",
       " 'research': 7500,\n",
       " 'remain': 7385,\n",
       " 'current': 2422,\n",
       " 'respect': 7542,\n",
       " 'œbest': 9739,\n",
       " 'practicesâ': 6695,\n",
       " 'government': 4121,\n",
       " 'private': 6804,\n",
       " 'entities': 3374,\n",
       " 'inform': 4646,\n",
       " 'deliberations': 2607,\n",
       " 'activities': 471,\n",
       " 'adapt': 481,\n",
       " 'fluid': 3866,\n",
       " 'changing': 1644,\n",
       " 'needs': 5789,\n",
       " 'priorities': 6792,\n",
       " 'possess': 6649,\n",
       " 'strong': 8482,\n",
       " 'analytical': 730,\n",
       " 'clear': 1749,\n",
       " 'persuasive': 6444,\n",
       " 'oral': 6125,\n",
       " 'written': 9687,\n",
       " 'communications': 1904,\n",
       " 'skills': 8149,\n",
       " 'explore': 3621,\n",
       " 'alternatives': 705,\n",
       " 'reach': 7130,\n",
       " 'gain': 4028,\n",
       " 'acceptance': 379,\n",
       " 'parties': 6309,\n",
       " 'articulate': 894,\n",
       " 'solve': 8206,\n",
       " 'uncomplicated': 9135,\n",
       " 'problems': 6816,\n",
       " 'collaborate': 1823,\n",
       " 'outside': 6196,\n",
       " 'achieve': 439,\n",
       " 'result': 7579,\n",
       " 'decision': 2540,\n",
       " 'organize': 6142,\n",
       " 'prioritize': 6795,\n",
       " 'permanent': 6422,\n",
       " 'assistant': 942,\n",
       " 'engineer': 3329,\n",
       " 'title': 8882,\n",
       " 'proof': 6911,\n",
       " 'registration': 7322,\n",
       " 'december': 2534,\n",
       " '2018': 108,\n",
       " 'competitive': 1937,\n",
       " 'exam': 3513,\n",
       " '9026': 328,\n",
       " 'apply': 796,\n",
       " 'failure': 3691,\n",
       " 'disqualification': 2894,\n",
       " 'seeks': 7930,\n",
       " 'prepare': 6731,\n",
       " 'details': 2715,\n",
       " 'built': 1399,\n",
       " 'drawings': 3027,\n",
       " 'roadway': 7676,\n",
       " 'sewer': 8013,\n",
       " 'consultants': 2131,\n",
       " 'house': 4388,\n",
       " 'cadd': 1440,\n",
       " 'designers': 2698,\n",
       " 'performed': 6410,\n",
       " 'sponsor': 8292,\n",
       " 'analyze': 733,\n",
       " 'survey': 8627,\n",
       " 'field': 3776,\n",
       " 'finish': 3817,\n",
       " 'calculations': 1447,\n",
       " 'autocad': 1030,\n",
       " 'carlson': 1518,\n",
       " 'coordinating': 2232,\n",
       " 'commitment': 1888,\n",
       " 'proposed': 6925,\n",
       " 'inception': 4555,\n",
       " 'completion': 1956,\n",
       " 'projectâ': 6893,\n",
       " 'generate': 4069,\n",
       " 'estimates': 3468,\n",
       " 'bid': 1196,\n",
       " 'price': 6774,\n",
       " 'deliverable': 2614,\n",
       " 'dates': 2486,\n",
       " 'complete': 1950,\n",
       " 'timely': 8871,\n",
       " 'manner': 5398,\n",
       " 'resolve': 7533,\n",
       " 'negotiate': 5793,\n",
       " 'contractors': 2181,\n",
       " 'change': 1641,\n",
       " 'orders': 6132,\n",
       " 'precautions': 6701,\n",
       " 'adhered': 508,\n",
       " 'completed': 1951,\n",
       " 'schedule': 7835,\n",
       " 'attend': 978,\n",
       " 'meetings': 5502,\n",
       " 'contractorsâ': 2182,\n",
       " 'mental': 5514,\n",
       " 'hygiene': 4445,\n",
       " 'world': 9673,\n",
       " 'renowned': 7423,\n",
       " 'long': 5296,\n",
       " 'tradition': 8948,\n",
       " 'protecting': 6943,\n",
       " 'promoting': 6900,\n",
       " 'nationâ': 5770,\n",
       " 'culturally': 2409,\n",
       " 'linguistically': 5226,\n",
       " 'diverse': 2922,\n",
       " 'members': 5506,\n",
       " 'bring': 1349,\n",
       " 'extraordinary': 3658,\n",
       " 'array': 881,\n",
       " 'languages': 5066,\n",
       " 'cultures': 2412,\n",
       " 'experiences': 3603,\n",
       " 'bear': 1148,\n",
       " 'diversity': 2926,\n",
       " 'fuels': 3990,\n",
       " 'creativity': 2354,\n",
       " 'perspectives': 6442,\n",
       " 'heard': 4272,\n",
       " 'valued': 9311,\n",
       " 'external': 3648,\n",
       " 'affairs': 592,\n",
       " 'oeaâ': 6007,\n",
       " 'interactions': 4768,\n",
       " 'raising': 7097,\n",
       " 'awareness': 1068,\n",
       " 'healthy': 4269,\n",
       " 'behaviors': 1166,\n",
       " 'advancing': 559,\n",
       " 'responding': 7556,\n",
       " 'emergencies': 3244,\n",
       " 'oea': 6005,\n",
       " 'publisher': 7001,\n",
       " 'advertiser': 567,\n",
       " 'marketer': 5419,\n",
       " 'trendsetting': 9034,\n",
       " 'responsive': 7564,\n",
       " 'campaigns': 1469,\n",
       " 'websites': 9547,\n",
       " 'oversees': 6220,\n",
       " 'social': 8185,\n",
       " 'media': 5487,\n",
       " 'outreach': 6193,\n",
       " 'efforts': 3181,\n",
       " 'leading': 5112,\n",
       " 'dohmh': 2971,\n",
       " 'hire': 4317,\n",
       " 'dynamic': 3089,\n",
       " 'associate': 948,\n",
       " 'commissioner': 1881,\n",
       " 'overseeing': 6218,\n",
       " 'brief': 1344,\n",
       " 'description': 2687,\n",
       " 'bureau': 1408,\n",
       " 'conveys': 2215,\n",
       " 'consistent': 2104,\n",
       " 'messages': 5531,\n",
       " 'publications': 6993,\n",
       " 'postings': 6662,\n",
       " 'educational': 3157,\n",
       " 'mobile': 5631,\n",
       " 'applications': 791,\n",
       " 'comprised': 1982,\n",
       " 'marketing': 5420,\n",
       " 'digital': 2793,\n",
       " 'language': 5065,\n",
       " 'access': 383,\n",
       " 'offices': 6030,\n",
       " 'intergovernmental': 4788,\n",
       " 'legislative': 5150,\n",
       " 'bodies': 1277,\n",
       " 'press': 6757,\n",
       " 'news': 5816,\n",
       " 'fielding': 3777,\n",
       " 'reporters': 7458,\n",
       " 'producers': 6842,\n",
       " 'officers': 6028,\n",
       " 'craft': 2335,\n",
       " 'disseminate': 2899,\n",
       " 'releases': 7372,\n",
       " 'fact': 3680,\n",
       " 'sheets': 8035,\n",
       " 'talking': 8709,\n",
       " 'points': 6595,\n",
       " 'statements': 8381,\n",
       " 'community': 1909,\n",
       " 'leadings': 5113,\n",
       " 'collaborating': 1825,\n",
       " 'closely': 1778,\n",
       " 'board': 1267,\n",
       " 'emergency': 3245,\n",
       " 'activations': 467,\n",
       " 'ensures': 3356,\n",
       " 'sufficient': 8558,\n",
       " 'officeâ': 6031,\n",
       " 'mission': 5615,\n",
       " 'customer': 2434,\n",
       " 'deliver': 2613,\n",
       " 'excellent': 3533,\n",
       " 'constituent': 2115,\n",
       " 'accurate': 433,\n",
       " 'phone': 6472,\n",
       " 'webchat': 9540,\n",
       " 'channels': 1646,\n",
       " 'print': 6784,\n",
       " 'shop': 8059,\n",
       " 'customers': 2435,\n",
       " 'high': 4302,\n",
       " 'economical': 3129,\n",
       " 'copying': 2241,\n",
       " 'printing': 6788,\n",
       " 'shortest': 8069,\n",
       " 'possible': 6653,\n",
       " 'advise': 572,\n",
       " 'leadership': 5110,\n",
       " 'partners': 6312,\n",
       " 'creation': 2351,\n",
       " 'execution': 3554,\n",
       " 'agenda': 620,\n",
       " 'local': 5275,\n",
       " 'execute': 3550,\n",
       " 'earned': 3099,\n",
       " 'strategy': 8452,\n",
       " 'partnership': 6313,\n",
       " 'release': 7370,\n",
       " 'lead': 5107,\n",
       " 'hall': 4206,\n",
       " 'officer': 6027,\n",
       " 'incident': 4557,\n",
       " 'command': 1866,\n",
       " 'continuous': 2174,\n",
       " 'operation': 6084,\n",
       " 'oeas': 6006,\n",
       " 'minimum': 5597,\n",
       " 'qualification': 7044,\n",
       " 'masterâ': 5436,\n",
       " 'degree': 2595,\n",
       " 'english': 3335,\n",
       " 'journalism': 4962,\n",
       " 'relations': 7362,\n",
       " 'years': 9713,\n",
       " 'paid': 6251,\n",
       " 'advertising': 568,\n",
       " 'capacity': 1492,\n",
       " 'supervisory': 8598,\n",
       " 'consultative': 2137,\n",
       " 'bachelorâ': 1075,\n",
       " 'treat': 9020,\n",
       " 'average': 1054,\n",
       " '140': 54,\n",
       " 'catch': 1552,\n",
       " 'basins': 1125,\n",
       " '114': 39,\n",
       " 'hydrants': 4439,\n",
       " '90': 322,\n",
       " 'valves': 9314,\n",
       " '14': 53,\n",
       " 'gatehouses': 4049,\n",
       " 'reservoirs': 7510,\n",
       " '68': 255,\n",
       " 'groundwater': 4175,\n",
       " 'wells': 9570,\n",
       " '100': 17,\n",
       " 'gallon': 4032,\n",
       " ...}"
      ]
     },
     "execution_count": 32,
     "metadata": {},
     "output_type": "execute_result"
    }
   ],
   "source": [
    "tfidf_vect.vocabulary_"
   ]
  },
  {
   "cell_type": "markdown",
   "metadata": {},
   "source": [
    "## Latent Semantic Analysis (Singular Value Decomposition)"
   ]
  },
  {
   "cell_type": "code",
   "execution_count": 33,
   "metadata": {},
   "outputs": [],
   "source": [
    "from sklearn.decomposition import TruncatedSVD"
   ]
  },
  {
   "cell_type": "code",
   "execution_count": 34,
   "metadata": {},
   "outputs": [],
   "source": [
    "#If you are performing Latent Semantic Analysis, recommended number of components is 100\n",
    "\n",
    "svd = TruncatedSVD(n_components=1100, n_iter=10)"
   ]
  },
  {
   "cell_type": "code",
   "execution_count": 35,
   "metadata": {},
   "outputs": [],
   "source": [
    "train_x_lsa = svd.fit_transform(train_x_tr)"
   ]
  },
  {
   "cell_type": "code",
   "execution_count": 36,
   "metadata": {},
   "outputs": [
    {
     "data": {
      "text/plain": [
       "(1689, 1100)"
      ]
     },
     "execution_count": 36,
     "metadata": {},
     "output_type": "execute_result"
    }
   ],
   "source": [
    "train_x_lsa.shape"
   ]
  },
  {
   "cell_type": "code",
   "execution_count": 37,
   "metadata": {},
   "outputs": [
    {
     "data": {
      "text/plain": [
       "array([[ 1.60378495e-01, -8.78083173e-02,  5.32549366e-03, ...,\n",
       "         8.18765282e-04,  4.40826058e-04, -3.82985697e-04],\n",
       "       [ 1.19773596e-01, -1.01424142e-01,  2.50156424e-02, ...,\n",
       "         1.19601880e-04, -6.38791401e-04, -3.51819842e-04],\n",
       "       [ 1.28522211e-01, -1.35634113e-01, -8.24286173e-02, ...,\n",
       "        -3.03807259e-04, -1.18854827e-03,  1.17230333e-03],\n",
       "       ...,\n",
       "       [ 1.78041070e-01, -1.48291560e-01, -2.35037276e-01, ...,\n",
       "         2.85718503e-02,  4.06183865e-02,  1.27626303e-03],\n",
       "       [ 4.64270193e-01,  1.06468559e-01,  1.82868320e-01, ...,\n",
       "        -1.39284640e-03, -8.73721586e-05,  9.53114480e-04],\n",
       "       [ 1.40325566e-01, -6.36563698e-02, -2.05515473e-02, ...,\n",
       "        -1.61297740e-03, -2.60755435e-04, -7.96640739e-04]])"
      ]
     },
     "execution_count": 37,
     "metadata": {},
     "output_type": "execute_result"
    }
   ],
   "source": [
    "train_x_lsa"
   ]
  },
  {
   "cell_type": "code",
   "execution_count": 38,
   "metadata": {},
   "outputs": [
    {
     "data": {
      "text/plain": [
       "0.9366861654558561"
      ]
     },
     "execution_count": 38,
     "metadata": {},
     "output_type": "execute_result"
    }
   ],
   "source": [
    "svd.explained_variance_.sum()"
   ]
  },
  {
   "cell_type": "markdown",
   "metadata": {},
   "source": [
    "### Let's transform the test data set"
   ]
  },
  {
   "cell_type": "code",
   "execution_count": 39,
   "metadata": {},
   "outputs": [],
   "source": [
    "test_x_lsa = svd.transform(test_x_tr)"
   ]
  },
  {
   "cell_type": "code",
   "execution_count": 40,
   "metadata": {},
   "outputs": [
    {
     "data": {
      "text/plain": [
       "(724, 1100)"
      ]
     },
     "execution_count": 40,
     "metadata": {},
     "output_type": "execute_result"
    }
   ],
   "source": [
    "test_x_lsa.shape"
   ]
  },
  {
   "cell_type": "code",
   "execution_count": 41,
   "metadata": {},
   "outputs": [],
   "source": [
    "train = np.hstack((train_othr_trans,train_x_lsa))"
   ]
  },
  {
   "cell_type": "code",
   "execution_count": 42,
   "metadata": {},
   "outputs": [
    {
     "data": {
      "text/plain": [
       "array([[-1.08660042e+00, -1.04304216e+00,  9.85767426e-01, ...,\n",
       "         8.18765282e-04,  4.40826058e-04, -3.82985697e-04],\n",
       "       [-1.08660042e+00,  1.41057651e+00,  2.10998159e+00, ...,\n",
       "         1.19601880e-04, -6.38791401e-04, -3.51819842e-04],\n",
       "       [ 5.82836913e-01, -1.04304216e+00,  9.85767426e-01, ...,\n",
       "        -3.03807259e-04, -1.18854827e-03,  1.17230333e-03],\n",
       "       ...,\n",
       "       [ 5.82836913e-01, -2.25169269e-01, -1.38446742e-01, ...,\n",
       "         2.85718503e-02,  4.06183865e-02,  1.27626303e-03],\n",
       "       [-1.08660042e+00,  5.92703623e-01, -1.26266091e+00, ...,\n",
       "        -1.39284640e-03, -8.73721586e-05,  9.53114480e-04],\n",
       "       [ 1.13931602e+00,  5.92703623e-01,  9.85767426e-01, ...,\n",
       "        -1.61297740e-03, -2.60755435e-04, -7.96640739e-04]])"
      ]
     },
     "execution_count": 42,
     "metadata": {},
     "output_type": "execute_result"
    }
   ],
   "source": [
    "train"
   ]
  },
  {
   "cell_type": "code",
   "execution_count": 43,
   "metadata": {},
   "outputs": [
    {
     "data": {
      "text/plain": [
       "(1689, 1108)"
      ]
     },
     "execution_count": 43,
     "metadata": {},
     "output_type": "execute_result"
    }
   ],
   "source": [
    "train.shape"
   ]
  },
  {
   "cell_type": "code",
   "execution_count": 44,
   "metadata": {},
   "outputs": [],
   "source": [
    "test = np.hstack((test_othr_trans,test_x_lsa))"
   ]
  },
  {
   "cell_type": "code",
   "execution_count": 45,
   "metadata": {},
   "outputs": [
    {
     "data": {
      "text/plain": [
       "array([[-5.30121308e-01, -1.04304216e+00, -1.38446742e-01, ...,\n",
       "         1.06706775e-02, -8.33398060e-03, -2.13247438e-02],\n",
       "       [ 1.13931602e+00,  2.22844941e+00, -1.38446742e-01, ...,\n",
       "        -2.33828121e-04, -3.09336460e-04,  7.10953032e-04],\n",
       "       [ 1.13931602e+00, -2.25169269e-01, -1.38446742e-01, ...,\n",
       "        -9.71341872e-03, -5.71303982e-03,  8.70737520e-03],\n",
       "       ...,\n",
       "       [ 1.13931602e+00, -2.25169269e-01,  9.85767426e-01, ...,\n",
       "        -1.27800469e-03,  1.03265449e-02,  7.00969462e-03],\n",
       "       [-1.08660042e+00, -1.04304216e+00,  9.85767426e-01, ...,\n",
       "        -3.35768007e-03, -5.53803043e-04, -4.20166505e-03],\n",
       "       [-1.08660042e+00,  2.22844941e+00, -1.38446742e-01, ...,\n",
       "         1.10190757e-03,  1.15642365e-03, -1.56375139e-03]])"
      ]
     },
     "execution_count": 45,
     "metadata": {},
     "output_type": "execute_result"
    }
   ],
   "source": [
    "test"
   ]
  },
  {
   "cell_type": "code",
   "execution_count": 46,
   "metadata": {},
   "outputs": [
    {
     "data": {
      "text/plain": [
       "(724, 1108)"
      ]
     },
     "execution_count": 46,
     "metadata": {},
     "output_type": "execute_result"
    }
   ],
   "source": [
    "test.shape"
   ]
  },
  {
   "cell_type": "markdown",
   "metadata": {},
   "source": [
    "## Find the Baseline "
   ]
  },
  {
   "cell_type": "code",
   "execution_count": 47,
   "metadata": {},
   "outputs": [],
   "source": [
    "from sklearn.metrics import mean_squared_error"
   ]
  },
  {
   "cell_type": "code",
   "execution_count": 48,
   "metadata": {},
   "outputs": [
    {
     "data": {
      "text/plain": [
       "77585.89698046181"
      ]
     },
     "execution_count": 48,
     "metadata": {},
     "output_type": "execute_result"
    }
   ],
   "source": [
    "#First find the average value of the target\n",
    "\n",
    "mean_value = np.mean(train_t)\n",
    "\n",
    "mean_value"
   ]
  },
  {
   "cell_type": "code",
   "execution_count": 49,
   "metadata": {},
   "outputs": [
    {
     "data": {
      "text/plain": [
       "array([77585.89698046, 77585.89698046, 77585.89698046, 77585.89698046,\n",
       "       77585.89698046, 77585.89698046, 77585.89698046, 77585.89698046,\n",
       "       77585.89698046, 77585.89698046, 77585.89698046, 77585.89698046,\n",
       "       77585.89698046, 77585.89698046, 77585.89698046, 77585.89698046,\n",
       "       77585.89698046, 77585.89698046, 77585.89698046, 77585.89698046,\n",
       "       77585.89698046, 77585.89698046, 77585.89698046, 77585.89698046,\n",
       "       77585.89698046, 77585.89698046, 77585.89698046, 77585.89698046,\n",
       "       77585.89698046, 77585.89698046, 77585.89698046, 77585.89698046,\n",
       "       77585.89698046, 77585.89698046, 77585.89698046, 77585.89698046,\n",
       "       77585.89698046, 77585.89698046, 77585.89698046, 77585.89698046,\n",
       "       77585.89698046, 77585.89698046, 77585.89698046, 77585.89698046,\n",
       "       77585.89698046, 77585.89698046, 77585.89698046, 77585.89698046,\n",
       "       77585.89698046, 77585.89698046, 77585.89698046, 77585.89698046,\n",
       "       77585.89698046, 77585.89698046, 77585.89698046, 77585.89698046,\n",
       "       77585.89698046, 77585.89698046, 77585.89698046, 77585.89698046,\n",
       "       77585.89698046, 77585.89698046, 77585.89698046, 77585.89698046,\n",
       "       77585.89698046, 77585.89698046, 77585.89698046, 77585.89698046,\n",
       "       77585.89698046, 77585.89698046, 77585.89698046, 77585.89698046,\n",
       "       77585.89698046, 77585.89698046, 77585.89698046, 77585.89698046,\n",
       "       77585.89698046, 77585.89698046, 77585.89698046, 77585.89698046,\n",
       "       77585.89698046, 77585.89698046, 77585.89698046, 77585.89698046,\n",
       "       77585.89698046, 77585.89698046, 77585.89698046, 77585.89698046,\n",
       "       77585.89698046, 77585.89698046, 77585.89698046, 77585.89698046,\n",
       "       77585.89698046, 77585.89698046, 77585.89698046, 77585.89698046,\n",
       "       77585.89698046, 77585.89698046, 77585.89698046, 77585.89698046,\n",
       "       77585.89698046, 77585.89698046, 77585.89698046, 77585.89698046,\n",
       "       77585.89698046, 77585.89698046, 77585.89698046, 77585.89698046,\n",
       "       77585.89698046, 77585.89698046, 77585.89698046, 77585.89698046,\n",
       "       77585.89698046, 77585.89698046, 77585.89698046, 77585.89698046,\n",
       "       77585.89698046, 77585.89698046, 77585.89698046, 77585.89698046,\n",
       "       77585.89698046, 77585.89698046, 77585.89698046, 77585.89698046,\n",
       "       77585.89698046, 77585.89698046, 77585.89698046, 77585.89698046,\n",
       "       77585.89698046, 77585.89698046, 77585.89698046, 77585.89698046,\n",
       "       77585.89698046, 77585.89698046, 77585.89698046, 77585.89698046,\n",
       "       77585.89698046, 77585.89698046, 77585.89698046, 77585.89698046,\n",
       "       77585.89698046, 77585.89698046, 77585.89698046, 77585.89698046,\n",
       "       77585.89698046, 77585.89698046, 77585.89698046, 77585.89698046,\n",
       "       77585.89698046, 77585.89698046, 77585.89698046, 77585.89698046,\n",
       "       77585.89698046, 77585.89698046, 77585.89698046, 77585.89698046,\n",
       "       77585.89698046, 77585.89698046, 77585.89698046, 77585.89698046,\n",
       "       77585.89698046, 77585.89698046, 77585.89698046, 77585.89698046,\n",
       "       77585.89698046, 77585.89698046, 77585.89698046, 77585.89698046,\n",
       "       77585.89698046, 77585.89698046, 77585.89698046, 77585.89698046,\n",
       "       77585.89698046, 77585.89698046, 77585.89698046, 77585.89698046,\n",
       "       77585.89698046, 77585.89698046, 77585.89698046, 77585.89698046,\n",
       "       77585.89698046, 77585.89698046, 77585.89698046, 77585.89698046,\n",
       "       77585.89698046, 77585.89698046, 77585.89698046, 77585.89698046,\n",
       "       77585.89698046, 77585.89698046, 77585.89698046, 77585.89698046,\n",
       "       77585.89698046, 77585.89698046, 77585.89698046, 77585.89698046,\n",
       "       77585.89698046, 77585.89698046, 77585.89698046, 77585.89698046,\n",
       "       77585.89698046, 77585.89698046, 77585.89698046, 77585.89698046,\n",
       "       77585.89698046, 77585.89698046, 77585.89698046, 77585.89698046,\n",
       "       77585.89698046, 77585.89698046, 77585.89698046, 77585.89698046,\n",
       "       77585.89698046, 77585.89698046, 77585.89698046, 77585.89698046,\n",
       "       77585.89698046, 77585.89698046, 77585.89698046, 77585.89698046,\n",
       "       77585.89698046, 77585.89698046, 77585.89698046, 77585.89698046,\n",
       "       77585.89698046, 77585.89698046, 77585.89698046, 77585.89698046,\n",
       "       77585.89698046, 77585.89698046, 77585.89698046, 77585.89698046,\n",
       "       77585.89698046, 77585.89698046, 77585.89698046, 77585.89698046,\n",
       "       77585.89698046, 77585.89698046, 77585.89698046, 77585.89698046,\n",
       "       77585.89698046, 77585.89698046, 77585.89698046, 77585.89698046,\n",
       "       77585.89698046, 77585.89698046, 77585.89698046, 77585.89698046,\n",
       "       77585.89698046, 77585.89698046, 77585.89698046, 77585.89698046,\n",
       "       77585.89698046, 77585.89698046, 77585.89698046, 77585.89698046,\n",
       "       77585.89698046, 77585.89698046, 77585.89698046, 77585.89698046,\n",
       "       77585.89698046, 77585.89698046, 77585.89698046, 77585.89698046,\n",
       "       77585.89698046, 77585.89698046, 77585.89698046, 77585.89698046,\n",
       "       77585.89698046, 77585.89698046, 77585.89698046, 77585.89698046,\n",
       "       77585.89698046, 77585.89698046, 77585.89698046, 77585.89698046,\n",
       "       77585.89698046, 77585.89698046, 77585.89698046, 77585.89698046,\n",
       "       77585.89698046, 77585.89698046, 77585.89698046, 77585.89698046,\n",
       "       77585.89698046, 77585.89698046, 77585.89698046, 77585.89698046,\n",
       "       77585.89698046, 77585.89698046, 77585.89698046, 77585.89698046,\n",
       "       77585.89698046, 77585.89698046, 77585.89698046, 77585.89698046,\n",
       "       77585.89698046, 77585.89698046, 77585.89698046, 77585.89698046,\n",
       "       77585.89698046, 77585.89698046, 77585.89698046, 77585.89698046,\n",
       "       77585.89698046, 77585.89698046, 77585.89698046, 77585.89698046,\n",
       "       77585.89698046, 77585.89698046, 77585.89698046, 77585.89698046,\n",
       "       77585.89698046, 77585.89698046, 77585.89698046, 77585.89698046,\n",
       "       77585.89698046, 77585.89698046, 77585.89698046, 77585.89698046,\n",
       "       77585.89698046, 77585.89698046, 77585.89698046, 77585.89698046,\n",
       "       77585.89698046, 77585.89698046, 77585.89698046, 77585.89698046,\n",
       "       77585.89698046, 77585.89698046, 77585.89698046, 77585.89698046,\n",
       "       77585.89698046, 77585.89698046, 77585.89698046, 77585.89698046,\n",
       "       77585.89698046, 77585.89698046, 77585.89698046, 77585.89698046,\n",
       "       77585.89698046, 77585.89698046, 77585.89698046, 77585.89698046,\n",
       "       77585.89698046, 77585.89698046, 77585.89698046, 77585.89698046,\n",
       "       77585.89698046, 77585.89698046, 77585.89698046, 77585.89698046,\n",
       "       77585.89698046, 77585.89698046, 77585.89698046, 77585.89698046,\n",
       "       77585.89698046, 77585.89698046, 77585.89698046, 77585.89698046,\n",
       "       77585.89698046, 77585.89698046, 77585.89698046, 77585.89698046,\n",
       "       77585.89698046, 77585.89698046, 77585.89698046, 77585.89698046,\n",
       "       77585.89698046, 77585.89698046, 77585.89698046, 77585.89698046,\n",
       "       77585.89698046, 77585.89698046, 77585.89698046, 77585.89698046,\n",
       "       77585.89698046, 77585.89698046, 77585.89698046, 77585.89698046,\n",
       "       77585.89698046, 77585.89698046, 77585.89698046, 77585.89698046,\n",
       "       77585.89698046, 77585.89698046, 77585.89698046, 77585.89698046,\n",
       "       77585.89698046, 77585.89698046, 77585.89698046, 77585.89698046,\n",
       "       77585.89698046, 77585.89698046, 77585.89698046, 77585.89698046,\n",
       "       77585.89698046, 77585.89698046, 77585.89698046, 77585.89698046,\n",
       "       77585.89698046, 77585.89698046, 77585.89698046, 77585.89698046,\n",
       "       77585.89698046, 77585.89698046, 77585.89698046, 77585.89698046,\n",
       "       77585.89698046, 77585.89698046, 77585.89698046, 77585.89698046,\n",
       "       77585.89698046, 77585.89698046, 77585.89698046, 77585.89698046,\n",
       "       77585.89698046, 77585.89698046, 77585.89698046, 77585.89698046,\n",
       "       77585.89698046, 77585.89698046, 77585.89698046, 77585.89698046,\n",
       "       77585.89698046, 77585.89698046, 77585.89698046, 77585.89698046,\n",
       "       77585.89698046, 77585.89698046, 77585.89698046, 77585.89698046,\n",
       "       77585.89698046, 77585.89698046, 77585.89698046, 77585.89698046,\n",
       "       77585.89698046, 77585.89698046, 77585.89698046, 77585.89698046,\n",
       "       77585.89698046, 77585.89698046, 77585.89698046, 77585.89698046,\n",
       "       77585.89698046, 77585.89698046, 77585.89698046, 77585.89698046,\n",
       "       77585.89698046, 77585.89698046, 77585.89698046, 77585.89698046,\n",
       "       77585.89698046, 77585.89698046, 77585.89698046, 77585.89698046,\n",
       "       77585.89698046, 77585.89698046, 77585.89698046, 77585.89698046,\n",
       "       77585.89698046, 77585.89698046, 77585.89698046, 77585.89698046,\n",
       "       77585.89698046, 77585.89698046, 77585.89698046, 77585.89698046,\n",
       "       77585.89698046, 77585.89698046, 77585.89698046, 77585.89698046,\n",
       "       77585.89698046, 77585.89698046, 77585.89698046, 77585.89698046,\n",
       "       77585.89698046, 77585.89698046, 77585.89698046, 77585.89698046,\n",
       "       77585.89698046, 77585.89698046, 77585.89698046, 77585.89698046,\n",
       "       77585.89698046, 77585.89698046, 77585.89698046, 77585.89698046,\n",
       "       77585.89698046, 77585.89698046, 77585.89698046, 77585.89698046,\n",
       "       77585.89698046, 77585.89698046, 77585.89698046, 77585.89698046,\n",
       "       77585.89698046, 77585.89698046, 77585.89698046, 77585.89698046,\n",
       "       77585.89698046, 77585.89698046, 77585.89698046, 77585.89698046,\n",
       "       77585.89698046, 77585.89698046, 77585.89698046, 77585.89698046,\n",
       "       77585.89698046, 77585.89698046, 77585.89698046, 77585.89698046,\n",
       "       77585.89698046, 77585.89698046, 77585.89698046, 77585.89698046,\n",
       "       77585.89698046, 77585.89698046, 77585.89698046, 77585.89698046,\n",
       "       77585.89698046, 77585.89698046, 77585.89698046, 77585.89698046,\n",
       "       77585.89698046, 77585.89698046, 77585.89698046, 77585.89698046,\n",
       "       77585.89698046, 77585.89698046, 77585.89698046, 77585.89698046,\n",
       "       77585.89698046, 77585.89698046, 77585.89698046, 77585.89698046,\n",
       "       77585.89698046, 77585.89698046, 77585.89698046, 77585.89698046,\n",
       "       77585.89698046, 77585.89698046, 77585.89698046, 77585.89698046,\n",
       "       77585.89698046, 77585.89698046, 77585.89698046, 77585.89698046,\n",
       "       77585.89698046, 77585.89698046, 77585.89698046, 77585.89698046,\n",
       "       77585.89698046, 77585.89698046, 77585.89698046, 77585.89698046,\n",
       "       77585.89698046, 77585.89698046, 77585.89698046, 77585.89698046,\n",
       "       77585.89698046, 77585.89698046, 77585.89698046, 77585.89698046,\n",
       "       77585.89698046, 77585.89698046, 77585.89698046, 77585.89698046,\n",
       "       77585.89698046, 77585.89698046, 77585.89698046, 77585.89698046,\n",
       "       77585.89698046, 77585.89698046, 77585.89698046, 77585.89698046,\n",
       "       77585.89698046, 77585.89698046, 77585.89698046, 77585.89698046,\n",
       "       77585.89698046, 77585.89698046, 77585.89698046, 77585.89698046,\n",
       "       77585.89698046, 77585.89698046, 77585.89698046, 77585.89698046,\n",
       "       77585.89698046, 77585.89698046, 77585.89698046, 77585.89698046,\n",
       "       77585.89698046, 77585.89698046, 77585.89698046, 77585.89698046,\n",
       "       77585.89698046, 77585.89698046, 77585.89698046, 77585.89698046,\n",
       "       77585.89698046, 77585.89698046, 77585.89698046, 77585.89698046,\n",
       "       77585.89698046, 77585.89698046, 77585.89698046, 77585.89698046,\n",
       "       77585.89698046, 77585.89698046, 77585.89698046, 77585.89698046,\n",
       "       77585.89698046, 77585.89698046, 77585.89698046, 77585.89698046,\n",
       "       77585.89698046, 77585.89698046, 77585.89698046, 77585.89698046,\n",
       "       77585.89698046, 77585.89698046, 77585.89698046, 77585.89698046,\n",
       "       77585.89698046, 77585.89698046, 77585.89698046, 77585.89698046,\n",
       "       77585.89698046, 77585.89698046, 77585.89698046, 77585.89698046,\n",
       "       77585.89698046, 77585.89698046, 77585.89698046, 77585.89698046,\n",
       "       77585.89698046, 77585.89698046, 77585.89698046, 77585.89698046,\n",
       "       77585.89698046, 77585.89698046, 77585.89698046, 77585.89698046,\n",
       "       77585.89698046, 77585.89698046, 77585.89698046, 77585.89698046,\n",
       "       77585.89698046, 77585.89698046, 77585.89698046, 77585.89698046,\n",
       "       77585.89698046, 77585.89698046, 77585.89698046, 77585.89698046,\n",
       "       77585.89698046, 77585.89698046, 77585.89698046, 77585.89698046,\n",
       "       77585.89698046, 77585.89698046, 77585.89698046, 77585.89698046,\n",
       "       77585.89698046, 77585.89698046, 77585.89698046, 77585.89698046,\n",
       "       77585.89698046, 77585.89698046, 77585.89698046, 77585.89698046,\n",
       "       77585.89698046, 77585.89698046, 77585.89698046, 77585.89698046,\n",
       "       77585.89698046, 77585.89698046, 77585.89698046, 77585.89698046,\n",
       "       77585.89698046, 77585.89698046, 77585.89698046, 77585.89698046,\n",
       "       77585.89698046, 77585.89698046, 77585.89698046, 77585.89698046,\n",
       "       77585.89698046, 77585.89698046, 77585.89698046, 77585.89698046,\n",
       "       77585.89698046, 77585.89698046, 77585.89698046, 77585.89698046,\n",
       "       77585.89698046, 77585.89698046, 77585.89698046, 77585.89698046,\n",
       "       77585.89698046, 77585.89698046, 77585.89698046, 77585.89698046,\n",
       "       77585.89698046, 77585.89698046, 77585.89698046, 77585.89698046,\n",
       "       77585.89698046, 77585.89698046, 77585.89698046, 77585.89698046,\n",
       "       77585.89698046, 77585.89698046, 77585.89698046, 77585.89698046,\n",
       "       77585.89698046, 77585.89698046, 77585.89698046, 77585.89698046,\n",
       "       77585.89698046, 77585.89698046, 77585.89698046, 77585.89698046])"
      ]
     },
     "execution_count": 49,
     "metadata": {},
     "output_type": "execute_result"
    }
   ],
   "source": [
    "# Predict all values as the mean\n",
    "\n",
    "baseline_pred = np.repeat(mean_value, len(test_t))\n",
    "\n",
    "baseline_pred"
   ]
  },
  {
   "cell_type": "code",
   "execution_count": 50,
   "metadata": {},
   "outputs": [
    {
     "name": "stdout",
     "output_type": "stream",
     "text": [
      "Baseline RMSE: 30239.657830851982\n"
     ]
    }
   ],
   "source": [
    "baseline_mse = mean_squared_error(test_t, baseline_pred)\n",
    "\n",
    "baseline_rmse = np.sqrt(baseline_mse)\n",
    "\n",
    "print('Baseline RMSE: {}' .format(baseline_rmse))"
   ]
  },
  {
   "cell_type": "markdown",
   "metadata": {},
   "source": [
    "## Decision Tree"
   ]
  },
  {
   "cell_type": "code",
   "execution_count": 51,
   "metadata": {},
   "outputs": [
    {
     "data": {
      "text/plain": [
       "DecisionTreeRegressor(min_samples_leaf=10)"
      ]
     },
     "execution_count": 51,
     "metadata": {},
     "output_type": "execute_result"
    }
   ],
   "source": [
    "from sklearn.tree import DecisionTreeRegressor\n",
    "\n",
    "tree_reg = DecisionTreeRegressor(min_samples_leaf = 10) \n",
    "\n",
    "tree_reg.fit(train, train_t)"
   ]
  },
  {
   "cell_type": "code",
   "execution_count": 52,
   "metadata": {},
   "outputs": [
    {
     "name": "stdout",
     "output_type": "stream",
     "text": [
      "Train RMSE: 14158.535084490719\n"
     ]
    }
   ],
   "source": [
    "#Train RMSE\n",
    "train_pred = tree_reg.predict(train)\n",
    "\n",
    "train_mse = mean_squared_error(train_t, train_pred)\n",
    "\n",
    "train_rmse = np.sqrt(train_mse)\n",
    "\n",
    "print('Train RMSE: {}' .format(train_rmse))"
   ]
  },
  {
   "cell_type": "code",
   "execution_count": 53,
   "metadata": {},
   "outputs": [
    {
     "name": "stdout",
     "output_type": "stream",
     "text": [
      "Test RMSE: 23919.07475723277\n"
     ]
    }
   ],
   "source": [
    "#Test RMSE\n",
    "test_pred = tree_reg.predict(test)\n",
    "\n",
    "test_mse = mean_squared_error(test_t, test_pred)\n",
    "\n",
    "test_rmse = np.sqrt(test_mse)\n",
    "\n",
    "print('Test RMSE: {}' .format(test_rmse))"
   ]
  },
  {
   "cell_type": "markdown",
   "metadata": {},
   "source": [
    "## Handling Overfitting in Decision Tree Model"
   ]
  },
  {
   "cell_type": "code",
   "execution_count": 238,
   "metadata": {},
   "outputs": [
    {
     "data": {
      "text/plain": [
       "DecisionTreeRegressor(max_depth=3)"
      ]
     },
     "execution_count": 238,
     "metadata": {},
     "output_type": "execute_result"
    }
   ],
   "source": [
    "## from sklearn.tree import DecisionTreeRegressor\n",
    "\n",
    "tree_reg = DecisionTreeRegressor(max_depth=3)\n",
    "\n",
    "tree_reg.fit(train, train_t)"
   ]
  },
  {
   "cell_type": "code",
   "execution_count": 239,
   "metadata": {},
   "outputs": [
    {
     "name": "stdout",
     "output_type": "stream",
     "text": [
      "Train RMSE: 25050.834990378513\n"
     ]
    }
   ],
   "source": [
    "#Train RMSE\n",
    "train_pred = tree_reg.predict(train)\n",
    "\n",
    "train_mse = mean_squared_error(train_t, train_pred)\n",
    "\n",
    "train_rmse = np.sqrt(train_mse)\n",
    "\n",
    "print('Train RMSE: {}' .format(train_rmse))"
   ]
  },
  {
   "cell_type": "code",
   "execution_count": 240,
   "metadata": {},
   "outputs": [
    {
     "name": "stdout",
     "output_type": "stream",
     "text": [
      "Test RMSE: 27933.29009320444\n"
     ]
    }
   ],
   "source": [
    "#Test RMSE\n",
    "test_pred = tree_reg.predict(test)\n",
    "\n",
    "test_mse = mean_squared_error(test_t, test_pred)\n",
    "\n",
    "test_rmse = np.sqrt(test_mse)\n",
    "\n",
    "print('Test RMSE: {}' .format(test_rmse))"
   ]
  },
  {
   "cell_type": "code",
   "execution_count": null,
   "metadata": {},
   "outputs": [],
   "source": []
  },
  {
   "cell_type": "markdown",
   "metadata": {},
   "source": [
    "## Voting regressor \n",
    "\n",
    "The voting regressor with 3 individual models"
   ]
  },
  {
   "cell_type": "code",
   "execution_count": 57,
   "metadata": {},
   "outputs": [
    {
     "name": "stderr",
     "output_type": "stream",
     "text": [
      "/Users/nehanegi/opt/anaconda3/lib/python3.8/site-packages/sklearn/linear_model/_stochastic_gradient.py:1220: ConvergenceWarning: Maximum number of iteration reached before convergence. Consider increasing max_iter to improve the fit.\n",
      "  warnings.warn(\"Maximum number of iteration reached before \"\n"
     ]
    },
    {
     "data": {
      "text/plain": [
       "VotingRegressor(estimators=[('dt', DecisionTreeRegressor(max_depth=20)),\n",
       "                            ('svr', SVR(C=10, epsilon=0.01)),\n",
       "                            ('sgd', SGDRegressor(max_iter=10000))])"
      ]
     },
     "execution_count": 57,
     "metadata": {},
     "output_type": "execute_result"
    }
   ],
   "source": [
    "from sklearn.tree import DecisionTreeRegressor\n",
    "from sklearn.linear_model import SGDRegressor \n",
    "from sklearn.svm import SVR \n",
    "from sklearn.ensemble import VotingRegressor\n",
    "\n",
    "\n",
    "dtree_reg = DecisionTreeRegressor(max_depth=20)\n",
    "svm_reg = SVR(kernel=\"rbf\", C=10, epsilon=0.01, gamma='scale') \n",
    "sgd_reg = SGDRegressor(max_iter=10000, tol=1e-3)\n",
    "\n",
    "voting_reg = VotingRegressor(\n",
    "            estimators=[('dt', dtree_reg), \n",
    "                        ('svr', svm_reg), \n",
    "                        ('sgd', sgd_reg)])\n",
    "\n",
    "voting_reg.fit(train, train_t)"
   ]
  },
  {
   "cell_type": "code",
   "execution_count": 58,
   "metadata": {},
   "outputs": [
    {
     "name": "stdout",
     "output_type": "stream",
     "text": [
      "Train RMSE: 11779.44884153116\n"
     ]
    }
   ],
   "source": [
    "#Train RMSE\n",
    "train_pred = voting_reg.predict(train)\n",
    "\n",
    "train_mse = mean_squared_error(train_t, train_pred)\n",
    "\n",
    "train_rmse = np.sqrt(train_mse)\n",
    "\n",
    "print('Train RMSE: {}' .format(train_rmse))"
   ]
  },
  {
   "cell_type": "code",
   "execution_count": 59,
   "metadata": {},
   "outputs": [
    {
     "name": "stdout",
     "output_type": "stream",
     "text": [
      "Test RMSE: 20379.785102898302\n"
     ]
    }
   ],
   "source": [
    "#Test RMSE\n",
    "\n",
    "test_pred = voting_reg.predict(test)\n",
    "\n",
    "test_mse = mean_squared_error(test_t, test_pred)\n",
    "\n",
    "test_rmse = np.sqrt(test_mse)\n",
    "\n",
    "print('Test RMSE: {}' .format(test_rmse))"
   ]
  },
  {
   "cell_type": "markdown",
   "metadata": {},
   "source": [
    "## Handling Overfitting in Voting Regressor Model"
   ]
  },
  {
   "cell_type": "code",
   "execution_count": 147,
   "metadata": {},
   "outputs": [
    {
     "name": "stderr",
     "output_type": "stream",
     "text": [
      "/Users/nehanegi/opt/anaconda3/lib/python3.8/site-packages/sklearn/linear_model/_stochastic_gradient.py:1220: ConvergenceWarning: Maximum number of iteration reached before convergence. Consider increasing max_iter to improve the fit.\n",
      "  warnings.warn(\"Maximum number of iteration reached before \"\n"
     ]
    },
    {
     "data": {
      "text/plain": [
       "VotingRegressor(estimators=[('dt', DecisionTreeRegressor(min_samples_leaf=40)),\n",
       "                            ('svr', SVR(C=10, epsilon=0.01)),\n",
       "                            ('sgd', SGDRegressor(max_iter=10000))])"
      ]
     },
     "execution_count": 147,
     "metadata": {},
     "output_type": "execute_result"
    }
   ],
   "source": [
    "from sklearn.tree import DecisionTreeRegressor\n",
    "from sklearn.linear_model import SGDRegressor \n",
    "from sklearn.svm import SVR \n",
    "from sklearn.ensemble import VotingRegressor\n",
    "\n",
    "\n",
    "dtree_reg = DecisionTreeRegressor(min_samples_leaf=40)\n",
    "svm_reg = SVR(kernel=\"rbf\", C=10, epsilon=0.01, gamma='scale') \n",
    "sgd_reg = SGDRegressor(max_iter=10000, tol=1e-3)\n",
    "\n",
    "voting_reg = VotingRegressor(\n",
    "            estimators=[('dt', dtree_reg), \n",
    "                        ('svr', svm_reg), \n",
    "                        ('sgd', sgd_reg)])\n",
    "\n",
    "voting_reg.fit(train, train_t)"
   ]
  },
  {
   "cell_type": "code",
   "execution_count": 148,
   "metadata": {},
   "outputs": [
    {
     "name": "stdout",
     "output_type": "stream",
     "text": [
      "Train RMSE: 18070.87359955238\n"
     ]
    }
   ],
   "source": [
    "#Train RMSE\n",
    "train_pred = voting_reg.predict(train)\n",
    "\n",
    "train_mse = mean_squared_error(train_t, train_pred)\n",
    "\n",
    "train_rmse = np.sqrt(train_mse)\n",
    "\n",
    "print('Train RMSE: {}' .format(train_rmse))"
   ]
  },
  {
   "cell_type": "code",
   "execution_count": 149,
   "metadata": {},
   "outputs": [
    {
     "name": "stdout",
     "output_type": "stream",
     "text": [
      "Test RMSE: 22994.885591697108\n"
     ]
    }
   ],
   "source": [
    "#Test RMSE\n",
    "\n",
    "test_pred = voting_reg.predict(test)\n",
    "\n",
    "test_mse = mean_squared_error(test_t, test_pred)\n",
    "\n",
    "test_rmse = np.sqrt(test_mse)\n",
    "\n",
    "print('Test RMSE: {}' .format(test_rmse))"
   ]
  },
  {
   "cell_type": "markdown",
   "metadata": {},
   "source": [
    "## A Boosting model\n",
    "\n",
    "Build either an Adaboost or a GradientBoost model"
   ]
  },
  {
   "cell_type": "code",
   "execution_count": 129,
   "metadata": {},
   "outputs": [
    {
     "data": {
      "text/plain": [
       "AdaBoostRegressor(base_estimator=DecisionTreeRegressor(max_depth=1),\n",
       "                  learning_rate=0.1, n_estimators=500)"
      ]
     },
     "execution_count": 129,
     "metadata": {},
     "output_type": "execute_result"
    }
   ],
   "source": [
    "from sklearn.ensemble import AdaBoostRegressor \n",
    "\n",
    "#Create Adapative Boosting with Decision Stumps (depth=1)\n",
    "ada_reg = AdaBoostRegressor( \n",
    "            DecisionTreeRegressor(max_depth=1), n_estimators=500, \n",
    "            learning_rate=0.1) \n",
    "\n",
    "ada_reg.fit(train, train_t)"
   ]
  },
  {
   "cell_type": "code",
   "execution_count": 130,
   "metadata": {},
   "outputs": [
    {
     "name": "stdout",
     "output_type": "stream",
     "text": [
      "Train RMSE: 28897.44095790657\n"
     ]
    }
   ],
   "source": [
    "#Train RMSE\n",
    "train_pred = ada_reg.predict(train)\n",
    "\n",
    "train_mse = mean_squared_error(train_t, train_pred)\n",
    "\n",
    "train_rmse = np.sqrt(train_mse)\n",
    "\n",
    "print('Train RMSE: {}' .format(train_rmse))"
   ]
  },
  {
   "cell_type": "code",
   "execution_count": 131,
   "metadata": {},
   "outputs": [
    {
     "name": "stdout",
     "output_type": "stream",
     "text": [
      "Test RMSE: 29995.868021861857\n"
     ]
    }
   ],
   "source": [
    "#Test RMSE\n",
    "test_pred = ada_reg.predict(test)\n",
    "\n",
    "test_mse = mean_squared_error(test_t, test_pred)\n",
    "\n",
    "test_rmse = np.sqrt(test_mse)\n",
    "\n",
    "print('Test RMSE: {}' .format(test_rmse))"
   ]
  },
  {
   "cell_type": "markdown",
   "metadata": {},
   "source": [
    "## Neural network"
   ]
  },
  {
   "cell_type": "code",
   "execution_count": 66,
   "metadata": {},
   "outputs": [
    {
     "name": "stderr",
     "output_type": "stream",
     "text": [
      "/Users/nehanegi/opt/anaconda3/lib/python3.8/site-packages/sklearn/neural_network/_multilayer_perceptron.py:614: ConvergenceWarning: Stochastic Optimizer: Maximum iterations (200) reached and the optimization hasn't converged yet.\n",
      "  warnings.warn(\n"
     ]
    },
    {
     "data": {
      "text/plain": [
       "MLPRegressor(hidden_layer_sizes=(900,))"
      ]
     },
     "execution_count": 66,
     "metadata": {},
     "output_type": "execute_result"
    }
   ],
   "source": [
    "from sklearn.neural_network import MLPRegressor\n",
    "\n",
    "#Default settings create 1 hidden layer with 100 neurons\n",
    "mlp_reg = MLPRegressor(hidden_layer_sizes=(900,))\n",
    "\n",
    "mlp_reg.fit(train, train_t)"
   ]
  },
  {
   "cell_type": "code",
   "execution_count": 67,
   "metadata": {},
   "outputs": [
    {
     "name": "stdout",
     "output_type": "stream",
     "text": [
      "Train RMSE: 71899.03111003427\n"
     ]
    }
   ],
   "source": [
    "#Train RMSE\n",
    "train_pred = mlp_reg.predict(train)\n",
    "\n",
    "train_mse = mean_squared_error(train_t, train_pred)\n",
    "\n",
    "train_rmse = np.sqrt(train_mse)\n",
    "\n",
    "print('Train RMSE: {}' .format(train_rmse))"
   ]
  },
  {
   "cell_type": "code",
   "execution_count": 68,
   "metadata": {},
   "outputs": [
    {
     "name": "stdout",
     "output_type": "stream",
     "text": [
      "Test RMSE: 73715.07679870729\n"
     ]
    }
   ],
   "source": [
    "#Test RMSE\n",
    "test_pred = mlp_reg.predict(test)\n",
    "\n",
    "test_mse = mean_squared_error(test_t, test_pred)\n",
    "\n",
    "test_rmse = np.sqrt(test_mse)\n",
    "\n",
    "print('Test RMSE: {}' .format(test_rmse))"
   ]
  },
  {
   "cell_type": "markdown",
   "metadata": {},
   "source": [
    "## Changing hyperparameters for Neural Network to handle underfitting"
   ]
  },
  {
   "cell_type": "code",
   "execution_count": 69,
   "metadata": {},
   "outputs": [
    {
     "name": "stderr",
     "output_type": "stream",
     "text": [
      "/Users/nehanegi/opt/anaconda3/lib/python3.8/site-packages/sklearn/neural_network/_multilayer_perceptron.py:614: ConvergenceWarning: Stochastic Optimizer: Maximum iterations (1000) reached and the optimization hasn't converged yet.\n",
      "  warnings.warn(\n"
     ]
    },
    {
     "data": {
      "text/plain": [
       "MLPRegressor(hidden_layer_sizes=(700,), max_iter=1000)"
      ]
     },
     "execution_count": 69,
     "metadata": {},
     "output_type": "execute_result"
    }
   ],
   "source": [
    "#Default settings create 1 hidden layer with 100 neurons\n",
    "mlp_reg = MLPRegressor(hidden_layer_sizes=(700,), max_iter=1000)\n",
    "\n",
    "mlp_reg.fit(train, train_t)"
   ]
  },
  {
   "cell_type": "code",
   "execution_count": 70,
   "metadata": {},
   "outputs": [
    {
     "name": "stdout",
     "output_type": "stream",
     "text": [
      "Train RMSE: 19850.858254313574\n"
     ]
    }
   ],
   "source": [
    "#Train RMSE\n",
    "train_pred = mlp_reg.predict(train)\n",
    "\n",
    "train_mse = mean_squared_error(train_t, train_pred)\n",
    "\n",
    "train_rmse = np.sqrt(train_mse)\n",
    "\n",
    "print('Train RMSE: {}' .format(train_rmse))"
   ]
  },
  {
   "cell_type": "code",
   "execution_count": 71,
   "metadata": {},
   "outputs": [
    {
     "name": "stdout",
     "output_type": "stream",
     "text": [
      "Test RMSE: 24012.624618942526\n"
     ]
    }
   ],
   "source": [
    "#Test RMSE\n",
    "test_pred = mlp_reg.predict(test)\n",
    "\n",
    "test_mse = mean_squared_error(test_t, test_pred)\n",
    "\n",
    "test_rmse = np.sqrt(test_mse)\n",
    "\n",
    "print('Test RMSE: {}' .format(test_rmse))"
   ]
  },
  {
   "cell_type": "markdown",
   "metadata": {},
   "source": [
    "## Grid search \n",
    "\n"
   ]
  },
  {
   "cell_type": "code",
   "execution_count": 84,
   "metadata": {},
   "outputs": [
    {
     "name": "stdout",
     "output_type": "stream",
     "text": [
      "Fitting 5 folds for each of 10 candidates, totalling 50 fits\n"
     ]
    },
    {
     "data": {
      "text/plain": [
       "RandomizedSearchCV(cv=5, estimator=DecisionTreeRegressor(),\n",
       "                   param_distributions=[{'max_depth': array([10, 11, 12, 13, 14, 15, 16, 17, 18, 19, 20, 21, 22, 23, 24, 25, 26,\n",
       "       27, 28, 29]),\n",
       "                                         'min_samples_leaf': array([10, 11, 12, 13, 14, 15, 16, 17, 18, 19, 20, 21, 22, 23, 24, 25, 26,\n",
       "       27, 28, 29])}],\n",
       "                   return_train_score=True, scoring='neg_mean_squared_error',\n",
       "                   verbose=1)"
      ]
     },
     "execution_count": 84,
     "metadata": {},
     "output_type": "execute_result"
    }
   ],
   "source": [
    "from sklearn.model_selection import RandomizedSearchCV\n",
    "\n",
    "gridParameters = [ {'min_samples_leaf': np.arange(10,30), 'max_depth': np.arange(10,30)}]\n",
    "\n",
    "tree_regress = DecisionTreeRegressor()\n",
    "\n",
    "grid_search = RandomizedSearchCV(tree_regress, gridParameters, cv=5, n_iter=10, scoring='neg_mean_squared_error',\n",
    "                                verbose=1, return_train_score=True)\n",
    "grid_search.fit(train, train_t)"
   ]
  },
  {
   "cell_type": "code",
   "execution_count": 85,
   "metadata": {},
   "outputs": [
    {
     "name": "stdout",
     "output_type": "stream",
     "text": [
      "26296.095218649214 {'min_samples_leaf': 16, 'max_depth': 25}\n",
      "26403.11115356089 {'min_samples_leaf': 17, 'max_depth': 29}\n",
      "26371.0979346163 {'min_samples_leaf': 23, 'max_depth': 16}\n",
      "26096.25299482654 {'min_samples_leaf': 22, 'max_depth': 27}\n",
      "26371.0979346163 {'min_samples_leaf': 23, 'max_depth': 26}\n",
      "26096.25299482654 {'min_samples_leaf': 22, 'max_depth': 15}\n",
      "25656.609354189535 {'min_samples_leaf': 14, 'max_depth': 21}\n",
      "25942.619342300688 {'min_samples_leaf': 12, 'max_depth': 18}\n",
      "25804.043423318624 {'min_samples_leaf': 13, 'max_depth': 11}\n",
      "26022.731341735183 {'min_samples_leaf': 25, 'max_depth': 22}\n"
     ]
    }
   ],
   "source": [
    "cvresult = grid_search.cv_results_\n",
    "\n",
    "for mean_score, params in zip(cvresult[\"mean_test_score\"], cvresult[\"params\"]):\n",
    "    print(np.sqrt(-mean_score), params)"
   ]
  },
  {
   "cell_type": "code",
   "execution_count": 86,
   "metadata": {},
   "outputs": [
    {
     "data": {
      "text/plain": [
       "{'min_samples_leaf': 14, 'max_depth': 21}"
      ]
     },
     "execution_count": 86,
     "metadata": {},
     "output_type": "execute_result"
    }
   ],
   "source": [
    "grid_search.best_params_"
   ]
  },
  {
   "cell_type": "code",
   "execution_count": 87,
   "metadata": {},
   "outputs": [
    {
     "data": {
      "text/plain": [
       "DecisionTreeRegressor(max_depth=21, min_samples_leaf=14)"
      ]
     },
     "execution_count": 87,
     "metadata": {},
     "output_type": "execute_result"
    }
   ],
   "source": [
    "grid_search.best_estimator_"
   ]
  },
  {
   "cell_type": "code",
   "execution_count": 88,
   "metadata": {},
   "outputs": [
    {
     "name": "stdout",
     "output_type": "stream",
     "text": [
      "Train RMSE: 16014.812565136084\n"
     ]
    }
   ],
   "source": [
    "#Train RMSE\n",
    "train_pred = grid_search.best_estimator_ .predict(train)\n",
    "train_mse = mean_squared_error(train_t, train_pred)\n",
    "train_rmse = np.sqrt(train_mse)\n",
    "print ('Train RMSE: {}'.format (train_rmse))"
   ]
  },
  {
   "cell_type": "code",
   "execution_count": 89,
   "metadata": {},
   "outputs": [
    {
     "name": "stdout",
     "output_type": "stream",
     "text": [
      "Test RMSE: 24453.915989836583\n"
     ]
    }
   ],
   "source": [
    "#Test RMSE\n",
    "test_pred = grid_search.best_estimator_ .predict(test)\n",
    "test_mse = mean_squared_error(test_t, test_pred)\n",
    "test_rmse = np.sqrt(test_mse)\n",
    "print ('Test RMSE: {}'.format (test_rmse))"
   ]
  },
  {
   "cell_type": "markdown",
   "metadata": {},
   "source": [
    "## List the train and test values of each model:"
   ]
  },
  {
   "cell_type": "raw",
   "metadata": {},
   "source": [
    "                            Train RMSE Value:           Test RMSE Value:\n",
    "Decision Tree:              14158.535084490719         23919.07475723277\n",
    "Voting Regressor:           11779.44884153116          20379.785102898302      \n",
    "Boosting Model:             28897.44095790657          29995.868021861857\n",
    "Neural Network:             71899.03111003427          73715.07679870729  \n",
    "Grid Search:                16014.812565136084         24453.915989836583\n"
   ]
  },
  {
   "cell_type": "markdown",
   "metadata": {},
   "source": [
    "## Which model performs the best and why? \n",
    "## How does it compare to baseline? \n",
    "\n",
    "Hint: The best model is the one that has the highest TEST score (regardless of any of the training values). If you select your model based on TRAIN values, you will lose points."
   ]
  },
  {
   "cell_type": "raw",
   "metadata": {},
   "source": [
    "The best model we have is voting regressor, as it has the least Test Root Mean Square error of 20379.78,which is much less than the baseline Test RMSE of 30239.65. Since the test RMSE is almost 10000 less than the baseline Test RMSE,voting regressor model is performing almost 60% better than the baseline RMSE. "
   ]
  },
  {
   "cell_type": "markdown",
   "metadata": {},
   "source": [
    "## Is there any evidence of overfitting in the best model, why or why not? If there is, what steps were taken:"
   ]
  },
  {
   "cell_type": "raw",
   "metadata": {},
   "source": [
    "                            Train RMSE.               Test RMSE\n",
    "Before Regularization:    11779.44884153116       20379.785102898302\n",
    "After Regularization:     18070.657971871955      22994.399745750157\n",
    "\n",
    "Yes, there was evidence of overfitting in the best model i.e Voting Regressor, as there is almost difference of 9000 between Train RMSE and Test RMSE.\n",
    "To control the overfitting, we added the hyperparamenter min_samples_leaf=40 instead of max_depth=20(for decision tree regressor) . This resulted in control of overfitting a bit, but the Test RMSE increased from 20379.78 to 22994.39"
   ]
  },
  {
   "cell_type": "markdown",
   "metadata": {},
   "source": [
    "## Is there any overfitting in the other models (besides the best model), why or why not? If there is, steps taken:"
   ]
  },
  {
   "cell_type": "raw",
   "metadata": {},
   "source": [
    "Apart from the best model,we had overfitting in Decision Tree, as there was a difference of 9000 between Train and Test RMSE.To control the overfitting, we added max_depth =3 instead of min_samples_leaf. We were able to control the overfitting a bit, but the test RMSE also increased. \n",
    "\n",
    "                            Train RMSE.               Test RMSE\n",
    "Before Regularization:    14158.535084490719      23919.07475723277\n",
    "After Regularization:     25050.834990378513      27933.29009320444\n",
    "\n",
    "\n"
   ]
  }
 ],
 "metadata": {
  "kernelspec": {
   "display_name": "Python 3",
   "language": "python",
   "name": "python3"
  },
  "language_info": {
   "codemirror_mode": {
    "name": "ipython",
    "version": 3
   },
   "file_extension": ".py",
   "mimetype": "text/x-python",
   "name": "python",
   "nbconvert_exporter": "python",
   "pygments_lexer": "ipython3",
   "version": "3.8.8"
  },
  "toc": {
   "base_numbering": 1,
   "nav_menu": {},
   "number_sections": false,
   "sideBar": true,
   "skip_h1_title": false,
   "title_cell": "Table of Contents",
   "title_sidebar": "Contents",
   "toc_cell": false,
   "toc_position": {},
   "toc_section_display": true,
   "toc_window_display": false
  }
 },
 "nbformat": 4,
 "nbformat_minor": 2
}
